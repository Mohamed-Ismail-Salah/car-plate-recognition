{
 "cells": [
  {
   "cell_type": "code",
   "execution_count": 5,
   "metadata": {
    "_cell_guid": "b1076dfc-b9ad-4769-8c92-a6c4dae69d19",
    "_uuid": "8f2839f25d086af736a60e9eeb907d3b93b6e0e5",
    "execution": {
     "iopub.execute_input": "2025-06-23T15:17:33.886034Z",
     "iopub.status.busy": "2025-06-23T15:17:33.885720Z",
     "iopub.status.idle": "2025-06-23T15:17:38.216633Z",
     "shell.execute_reply": "2025-06-23T15:17:38.215689Z",
     "shell.execute_reply.started": "2025-06-23T15:17:33.886007Z"
    },
    "trusted": true
   },
   "outputs": [
    {
     "name": "stdout",
     "output_type": "stream",
     "text": [
      "Requirement already satisfied: roboflow in /usr/local/lib/python3.11/dist-packages (1.1.66)\n",
      "Requirement already satisfied: certifi in /usr/local/lib/python3.11/dist-packages (from roboflow) (2025.4.26)\n",
      "Requirement already satisfied: idna==3.7 in /usr/local/lib/python3.11/dist-packages (from roboflow) (3.7)\n",
      "Requirement already satisfied: cycler in /usr/local/lib/python3.11/dist-packages (from roboflow) (0.12.1)\n",
      "Requirement already satisfied: kiwisolver>=1.3.1 in /usr/local/lib/python3.11/dist-packages (from roboflow) (1.4.8)\n",
      "Requirement already satisfied: matplotlib in /usr/local/lib/python3.11/dist-packages (from roboflow) (3.7.2)\n",
      "Requirement already satisfied: numpy>=1.18.5 in /usr/local/lib/python3.11/dist-packages (from roboflow) (1.26.4)\n",
      "Requirement already satisfied: opencv-python-headless==4.10.0.84 in /usr/local/lib/python3.11/dist-packages (from roboflow) (4.10.0.84)\n",
      "Requirement already satisfied: Pillow>=7.1.2 in /usr/local/lib/python3.11/dist-packages (from roboflow) (11.1.0)\n",
      "Requirement already satisfied: pillow-heif>=0.18.0 in /usr/local/lib/python3.11/dist-packages (from roboflow) (0.22.0)\n",
      "Requirement already satisfied: python-dateutil in /usr/local/lib/python3.11/dist-packages (from roboflow) (2.9.0.post0)\n",
      "Requirement already satisfied: python-dotenv in /usr/local/lib/python3.11/dist-packages (from roboflow) (1.1.0)\n",
      "Requirement already satisfied: requests in /usr/local/lib/python3.11/dist-packages (from roboflow) (2.32.3)\n",
      "Requirement already satisfied: six in /usr/local/lib/python3.11/dist-packages (from roboflow) (1.17.0)\n",
      "Requirement already satisfied: urllib3>=1.26.6 in /usr/local/lib/python3.11/dist-packages (from roboflow) (2.4.0)\n",
      "Requirement already satisfied: tqdm>=4.41.0 in /usr/local/lib/python3.11/dist-packages (from roboflow) (4.67.1)\n",
      "Requirement already satisfied: PyYAML>=5.3.1 in /usr/local/lib/python3.11/dist-packages (from roboflow) (6.0.2)\n",
      "Requirement already satisfied: requests-toolbelt in /usr/local/lib/python3.11/dist-packages (from roboflow) (1.0.0)\n",
      "Requirement already satisfied: filetype in /usr/local/lib/python3.11/dist-packages (from roboflow) (1.2.0)\n",
      "Requirement already satisfied: mkl_fft in /usr/local/lib/python3.11/dist-packages (from numpy>=1.18.5->roboflow) (1.3.8)\n",
      "Requirement already satisfied: mkl_random in /usr/local/lib/python3.11/dist-packages (from numpy>=1.18.5->roboflow) (1.2.4)\n",
      "Requirement already satisfied: mkl_umath in /usr/local/lib/python3.11/dist-packages (from numpy>=1.18.5->roboflow) (0.1.1)\n",
      "Requirement already satisfied: mkl in /usr/local/lib/python3.11/dist-packages (from numpy>=1.18.5->roboflow) (2025.1.0)\n",
      "Requirement already satisfied: tbb4py in /usr/local/lib/python3.11/dist-packages (from numpy>=1.18.5->roboflow) (2022.1.0)\n",
      "Requirement already satisfied: mkl-service in /usr/local/lib/python3.11/dist-packages (from numpy>=1.18.5->roboflow) (2.4.1)\n",
      "Requirement already satisfied: contourpy>=1.0.1 in /usr/local/lib/python3.11/dist-packages (from matplotlib->roboflow) (1.3.1)\n",
      "Requirement already satisfied: fonttools>=4.22.0 in /usr/local/lib/python3.11/dist-packages (from matplotlib->roboflow) (4.57.0)\n",
      "Requirement already satisfied: packaging>=20.0 in /usr/local/lib/python3.11/dist-packages (from matplotlib->roboflow) (25.0)\n",
      "Requirement already satisfied: pyparsing<3.1,>=2.3.1 in /usr/local/lib/python3.11/dist-packages (from matplotlib->roboflow) (3.0.9)\n",
      "Requirement already satisfied: charset-normalizer<4,>=2 in /usr/local/lib/python3.11/dist-packages (from requests->roboflow) (3.4.2)\n",
      "Requirement already satisfied: intel-openmp<2026,>=2024 in /usr/local/lib/python3.11/dist-packages (from mkl->numpy>=1.18.5->roboflow) (2024.2.0)\n",
      "Requirement already satisfied: tbb==2022.* in /usr/local/lib/python3.11/dist-packages (from mkl->numpy>=1.18.5->roboflow) (2022.1.0)\n",
      "Requirement already satisfied: tcmlib==1.* in /usr/local/lib/python3.11/dist-packages (from tbb==2022.*->mkl->numpy>=1.18.5->roboflow) (1.3.0)\n",
      "Requirement already satisfied: intel-cmplr-lib-rt in /usr/local/lib/python3.11/dist-packages (from mkl_umath->numpy>=1.18.5->roboflow) (2024.2.0)\n",
      "Requirement already satisfied: intel-cmplr-lib-ur==2024.2.0 in /usr/local/lib/python3.11/dist-packages (from intel-openmp<2026,>=2024->mkl->numpy>=1.18.5->roboflow) (2024.2.0)\n",
      "loading Roboflow workspace...\n",
      "loading Roboflow project...\n"
     ]
    }
   ],
   "source": [
    "!pip install roboflow\n",
    "\n",
    "from roboflow import Roboflow\n",
    "rf = Roboflow(api_key=\"MOUR0pWpZX2ENDHNyzdl\")\n",
    "project = rf.workspace(\"mohamed-nokud\").project(\"license-plate-recognition-rxg4e-mvean\")\n",
    "version = project.version(2)\n",
    "dataset = version.download(\"yolov8\")\n",
    "                "
   ]
  },
  {
   "cell_type": "code",
   "execution_count": 6,
   "metadata": {
    "execution": {
     "iopub.execute_input": "2025-06-23T15:17:38.218394Z",
     "iopub.status.busy": "2025-06-23T15:17:38.218148Z",
     "iopub.status.idle": "2025-06-23T15:17:41.496654Z",
     "shell.execute_reply": "2025-06-23T15:17:41.495819Z",
     "shell.execute_reply.started": "2025-06-23T15:17:38.218370Z"
    },
    "trusted": true
   },
   "outputs": [
    {
     "name": "stdout",
     "output_type": "stream",
     "text": [
      "Requirement already satisfied: ultralytics in /usr/local/lib/python3.11/dist-packages (8.3.158)\n",
      "Requirement already satisfied: numpy>=1.23.0 in /usr/local/lib/python3.11/dist-packages (from ultralytics) (1.26.4)\n",
      "Requirement already satisfied: matplotlib>=3.3.0 in /usr/local/lib/python3.11/dist-packages (from ultralytics) (3.7.2)\n",
      "Requirement already satisfied: opencv-python>=4.6.0 in /usr/local/lib/python3.11/dist-packages (from ultralytics) (4.11.0.86)\n",
      "Requirement already satisfied: pillow>=7.1.2 in /usr/local/lib/python3.11/dist-packages (from ultralytics) (11.1.0)\n",
      "Requirement already satisfied: pyyaml>=5.3.1 in /usr/local/lib/python3.11/dist-packages (from ultralytics) (6.0.2)\n",
      "Requirement already satisfied: requests>=2.23.0 in /usr/local/lib/python3.11/dist-packages (from ultralytics) (2.32.3)\n",
      "Requirement already satisfied: scipy>=1.4.1 in /usr/local/lib/python3.11/dist-packages (from ultralytics) (1.15.2)\n",
      "Requirement already satisfied: torch>=1.8.0 in /usr/local/lib/python3.11/dist-packages (from ultralytics) (2.6.0+cu124)\n",
      "Requirement already satisfied: torchvision>=0.9.0 in /usr/local/lib/python3.11/dist-packages (from ultralytics) (0.21.0+cu124)\n",
      "Requirement already satisfied: tqdm>=4.64.0 in /usr/local/lib/python3.11/dist-packages (from ultralytics) (4.67.1)\n",
      "Requirement already satisfied: psutil in /usr/local/lib/python3.11/dist-packages (from ultralytics) (7.0.0)\n",
      "Requirement already satisfied: py-cpuinfo in /usr/local/lib/python3.11/dist-packages (from ultralytics) (9.0.0)\n",
      "Requirement already satisfied: pandas>=1.1.4 in /usr/local/lib/python3.11/dist-packages (from ultralytics) (2.2.3)\n",
      "Requirement already satisfied: ultralytics-thop>=2.0.0 in /usr/local/lib/python3.11/dist-packages (from ultralytics) (2.0.14)\n",
      "Requirement already satisfied: contourpy>=1.0.1 in /usr/local/lib/python3.11/dist-packages (from matplotlib>=3.3.0->ultralytics) (1.3.1)\n",
      "Requirement already satisfied: cycler>=0.10 in /usr/local/lib/python3.11/dist-packages (from matplotlib>=3.3.0->ultralytics) (0.12.1)\n",
      "Requirement already satisfied: fonttools>=4.22.0 in /usr/local/lib/python3.11/dist-packages (from matplotlib>=3.3.0->ultralytics) (4.57.0)\n",
      "Requirement already satisfied: kiwisolver>=1.0.1 in /usr/local/lib/python3.11/dist-packages (from matplotlib>=3.3.0->ultralytics) (1.4.8)\n",
      "Requirement already satisfied: packaging>=20.0 in /usr/local/lib/python3.11/dist-packages (from matplotlib>=3.3.0->ultralytics) (25.0)\n",
      "Requirement already satisfied: pyparsing<3.1,>=2.3.1 in /usr/local/lib/python3.11/dist-packages (from matplotlib>=3.3.0->ultralytics) (3.0.9)\n",
      "Requirement already satisfied: python-dateutil>=2.7 in /usr/local/lib/python3.11/dist-packages (from matplotlib>=3.3.0->ultralytics) (2.9.0.post0)\n",
      "Requirement already satisfied: mkl_fft in /usr/local/lib/python3.11/dist-packages (from numpy>=1.23.0->ultralytics) (1.3.8)\n",
      "Requirement already satisfied: mkl_random in /usr/local/lib/python3.11/dist-packages (from numpy>=1.23.0->ultralytics) (1.2.4)\n",
      "Requirement already satisfied: mkl_umath in /usr/local/lib/python3.11/dist-packages (from numpy>=1.23.0->ultralytics) (0.1.1)\n",
      "Requirement already satisfied: mkl in /usr/local/lib/python3.11/dist-packages (from numpy>=1.23.0->ultralytics) (2025.1.0)\n",
      "Requirement already satisfied: tbb4py in /usr/local/lib/python3.11/dist-packages (from numpy>=1.23.0->ultralytics) (2022.1.0)\n",
      "Requirement already satisfied: mkl-service in /usr/local/lib/python3.11/dist-packages (from numpy>=1.23.0->ultralytics) (2.4.1)\n",
      "Requirement already satisfied: pytz>=2020.1 in /usr/local/lib/python3.11/dist-packages (from pandas>=1.1.4->ultralytics) (2025.2)\n",
      "Requirement already satisfied: tzdata>=2022.7 in /usr/local/lib/python3.11/dist-packages (from pandas>=1.1.4->ultralytics) (2025.2)\n",
      "Requirement already satisfied: charset-normalizer<4,>=2 in /usr/local/lib/python3.11/dist-packages (from requests>=2.23.0->ultralytics) (3.4.2)\n",
      "Requirement already satisfied: idna<4,>=2.5 in /usr/local/lib/python3.11/dist-packages (from requests>=2.23.0->ultralytics) (3.7)\n",
      "Requirement already satisfied: urllib3<3,>=1.21.1 in /usr/local/lib/python3.11/dist-packages (from requests>=2.23.0->ultralytics) (2.4.0)\n",
      "Requirement already satisfied: certifi>=2017.4.17 in /usr/local/lib/python3.11/dist-packages (from requests>=2.23.0->ultralytics) (2025.4.26)\n",
      "Requirement already satisfied: filelock in /usr/local/lib/python3.11/dist-packages (from torch>=1.8.0->ultralytics) (3.18.0)\n",
      "Requirement already satisfied: typing-extensions>=4.10.0 in /usr/local/lib/python3.11/dist-packages (from torch>=1.8.0->ultralytics) (4.13.2)\n",
      "Requirement already satisfied: networkx in /usr/local/lib/python3.11/dist-packages (from torch>=1.8.0->ultralytics) (3.4.2)\n",
      "Requirement already satisfied: jinja2 in /usr/local/lib/python3.11/dist-packages (from torch>=1.8.0->ultralytics) (3.1.6)\n",
      "Requirement already satisfied: fsspec in /usr/local/lib/python3.11/dist-packages (from torch>=1.8.0->ultralytics) (2025.3.2)\n",
      "Requirement already satisfied: nvidia-cuda-nvrtc-cu12==12.4.127 in /usr/local/lib/python3.11/dist-packages (from torch>=1.8.0->ultralytics) (12.4.127)\n",
      "Requirement already satisfied: nvidia-cuda-runtime-cu12==12.4.127 in /usr/local/lib/python3.11/dist-packages (from torch>=1.8.0->ultralytics) (12.4.127)\n",
      "Requirement already satisfied: nvidia-cuda-cupti-cu12==12.4.127 in /usr/local/lib/python3.11/dist-packages (from torch>=1.8.0->ultralytics) (12.4.127)\n",
      "Requirement already satisfied: nvidia-cudnn-cu12==9.1.0.70 in /usr/local/lib/python3.11/dist-packages (from torch>=1.8.0->ultralytics) (9.1.0.70)\n",
      "Requirement already satisfied: nvidia-cublas-cu12==12.4.5.8 in /usr/local/lib/python3.11/dist-packages (from torch>=1.8.0->ultralytics) (12.4.5.8)\n",
      "Requirement already satisfied: nvidia-cufft-cu12==11.2.1.3 in /usr/local/lib/python3.11/dist-packages (from torch>=1.8.0->ultralytics) (11.2.1.3)\n",
      "Requirement already satisfied: nvidia-curand-cu12==10.3.5.147 in /usr/local/lib/python3.11/dist-packages (from torch>=1.8.0->ultralytics) (10.3.5.147)\n",
      "Requirement already satisfied: nvidia-cusolver-cu12==11.6.1.9 in /usr/local/lib/python3.11/dist-packages (from torch>=1.8.0->ultralytics) (11.6.1.9)\n",
      "Requirement already satisfied: nvidia-cusparse-cu12==12.3.1.170 in /usr/local/lib/python3.11/dist-packages (from torch>=1.8.0->ultralytics) (12.3.1.170)\n",
      "Requirement already satisfied: nvidia-cusparselt-cu12==0.6.2 in /usr/local/lib/python3.11/dist-packages (from torch>=1.8.0->ultralytics) (0.6.2)\n",
      "Requirement already satisfied: nvidia-nccl-cu12==2.21.5 in /usr/local/lib/python3.11/dist-packages (from torch>=1.8.0->ultralytics) (2.21.5)\n",
      "Requirement already satisfied: nvidia-nvtx-cu12==12.4.127 in /usr/local/lib/python3.11/dist-packages (from torch>=1.8.0->ultralytics) (12.4.127)\n",
      "Requirement already satisfied: nvidia-nvjitlink-cu12==12.4.127 in /usr/local/lib/python3.11/dist-packages (from torch>=1.8.0->ultralytics) (12.4.127)\n",
      "Requirement already satisfied: triton==3.2.0 in /usr/local/lib/python3.11/dist-packages (from torch>=1.8.0->ultralytics) (3.2.0)\n",
      "Requirement already satisfied: sympy==1.13.1 in /usr/local/lib/python3.11/dist-packages (from torch>=1.8.0->ultralytics) (1.13.1)\n",
      "Requirement already satisfied: mpmath<1.4,>=1.1.0 in /usr/local/lib/python3.11/dist-packages (from sympy==1.13.1->torch>=1.8.0->ultralytics) (1.3.0)\n",
      "Requirement already satisfied: six>=1.5 in /usr/local/lib/python3.11/dist-packages (from python-dateutil>=2.7->matplotlib>=3.3.0->ultralytics) (1.17.0)\n",
      "Requirement already satisfied: MarkupSafe>=2.0 in /usr/local/lib/python3.11/dist-packages (from jinja2->torch>=1.8.0->ultralytics) (3.0.2)\n",
      "Requirement already satisfied: intel-openmp<2026,>=2024 in /usr/local/lib/python3.11/dist-packages (from mkl->numpy>=1.23.0->ultralytics) (2024.2.0)\n",
      "Requirement already satisfied: tbb==2022.* in /usr/local/lib/python3.11/dist-packages (from mkl->numpy>=1.23.0->ultralytics) (2022.1.0)\n",
      "Requirement already satisfied: tcmlib==1.* in /usr/local/lib/python3.11/dist-packages (from tbb==2022.*->mkl->numpy>=1.23.0->ultralytics) (1.3.0)\n",
      "Requirement already satisfied: intel-cmplr-lib-rt in /usr/local/lib/python3.11/dist-packages (from mkl_umath->numpy>=1.23.0->ultralytics) (2024.2.0)\n",
      "Requirement already satisfied: intel-cmplr-lib-ur==2024.2.0 in /usr/local/lib/python3.11/dist-packages (from intel-openmp<2026,>=2024->mkl->numpy>=1.23.0->ultralytics) (2024.2.0)\n",
      "Note: you may need to restart the kernel to use updated packages.\n"
     ]
    }
   ],
   "source": [
    "pip install ultralytics"
   ]
  },
  {
   "cell_type": "code",
   "execution_count": null,
   "metadata": {
    "execution": {
     "iopub.execute_input": "2025-06-23T15:24:07.309400Z",
     "iopub.status.busy": "2025-06-23T15:24:07.308773Z",
     "iopub.status.idle": "2025-06-23T15:52:00.424801Z",
     "shell.execute_reply": "2025-06-23T15:52:00.423966Z",
     "shell.execute_reply.started": "2025-06-23T15:24:07.309373Z"
    },
    "trusted": true
   },
   "outputs": [
    {
     "name": "stdout",
     "output_type": "stream",
     "text": [
      "Ultralytics 8.3.158 🚀 Python-3.11.11 torch-2.6.0+cu124 CUDA:0 (Tesla T4, 15095MiB)\n",
      "\u001b[34m\u001b[1mengine/trainer: \u001b[0magnostic_nms=False, amp=True, augment=False, auto_augment=randaugment, batch=16, bgr=0.0, box=7.5, cache=False, cfg=None, classes=None, close_mosaic=10, cls=0.5, conf=None, copy_paste=0.0, copy_paste_mode=flip, cos_lr=False, cutmix=0.0, data=/kaggle/working/License-Plate-Recognition-2/data.yaml, degrees=0.0, deterministic=True, device=None, dfl=1.5, dnn=False, dropout=0.0, dynamic=False, embed=None, epochs=20, erasing=0.4, exist_ok=False, fliplr=0.5, flipud=0.0, format=torchscript, fraction=1.0, freeze=None, half=False, hsv_h=0.015, hsv_s=0.7, hsv_v=0.4, imgsz=640, int8=False, iou=0.7, keras=False, kobj=1.0, line_width=None, lr0=0.01, lrf=0.01, mask_ratio=4, max_det=300, mixup=0.0, mode=train, model=yolov8n.pt, momentum=0.937, mosaic=1.0, multi_scale=False, name=plate-detector-arabic4, nbs=64, nms=False, opset=None, optimize=False, optimizer=auto, overlap_mask=True, patience=100, perspective=0.0, plots=True, pose=12.0, pretrained=True, profile=False, project=None, rect=False, resume=False, retina_masks=False, save=True, save_conf=False, save_crop=False, save_dir=runs/detect/plate-detector-arabic4, save_frames=False, save_json=False, save_period=-1, save_txt=False, scale=0.5, seed=0, shear=0.0, show=False, show_boxes=True, show_conf=True, show_labels=True, simplify=True, single_cls=False, source=None, split=val, stream_buffer=False, task=detect, time=None, tracker=botsort.yaml, translate=0.1, val=True, verbose=True, vid_stride=1, visualize=False, warmup_bias_lr=0.1, warmup_epochs=3.0, warmup_momentum=0.8, weight_decay=0.0005, workers=8, workspace=None\n",
      "Overriding model.yaml nc=80 with nc=1\n",
      "\n",
      "                   from  n    params  module                                       arguments                     \n",
      "  0                  -1  1       464  ultralytics.nn.modules.conv.Conv             [3, 16, 3, 2]                 \n",
      "  1                  -1  1      4672  ultralytics.nn.modules.conv.Conv             [16, 32, 3, 2]                \n",
      "  2                  -1  1      7360  ultralytics.nn.modules.block.C2f             [32, 32, 1, True]             \n",
      "  3                  -1  1     18560  ultralytics.nn.modules.conv.Conv             [32, 64, 3, 2]                \n",
      "  4                  -1  2     49664  ultralytics.nn.modules.block.C2f             [64, 64, 2, True]             \n",
      "  5                  -1  1     73984  ultralytics.nn.modules.conv.Conv             [64, 128, 3, 2]               \n",
      "  6                  -1  2    197632  ultralytics.nn.modules.block.C2f             [128, 128, 2, True]           \n",
      "  7                  -1  1    295424  ultralytics.nn.modules.conv.Conv             [128, 256, 3, 2]              \n",
      "  8                  -1  1    460288  ultralytics.nn.modules.block.C2f             [256, 256, 1, True]           \n",
      "  9                  -1  1    164608  ultralytics.nn.modules.block.SPPF            [256, 256, 5]                 \n",
      " 10                  -1  1         0  torch.nn.modules.upsampling.Upsample         [None, 2, 'nearest']          \n",
      " 11             [-1, 6]  1         0  ultralytics.nn.modules.conv.Concat           [1]                           \n",
      " 12                  -1  1    148224  ultralytics.nn.modules.block.C2f             [384, 128, 1]                 \n",
      " 13                  -1  1         0  torch.nn.modules.upsampling.Upsample         [None, 2, 'nearest']          \n",
      " 14             [-1, 4]  1         0  ultralytics.nn.modules.conv.Concat           [1]                           \n",
      " 15                  -1  1     37248  ultralytics.nn.modules.block.C2f             [192, 64, 1]                  \n",
      " 16                  -1  1     36992  ultralytics.nn.modules.conv.Conv             [64, 64, 3, 2]                \n",
      " 17            [-1, 12]  1         0  ultralytics.nn.modules.conv.Concat           [1]                           \n",
      " 18                  -1  1    123648  ultralytics.nn.modules.block.C2f             [192, 128, 1]                 \n",
      " 19                  -1  1    147712  ultralytics.nn.modules.conv.Conv             [128, 128, 3, 2]              \n",
      " 20             [-1, 9]  1         0  ultralytics.nn.modules.conv.Concat           [1]                           \n",
      " 21                  -1  1    493056  ultralytics.nn.modules.block.C2f             [384, 256, 1]                 \n",
      " 22        [15, 18, 21]  1    751507  ultralytics.nn.modules.head.Detect           [1, [64, 128, 256]]           \n",
      "Model summary: 129 layers, 3,011,043 parameters, 3,011,027 gradients, 8.2 GFLOPs\n",
      "\n",
      "Transferred 319/355 items from pretrained weights\n",
      "Freezing layer 'model.22.dfl.conv.weight'\n",
      "\u001b[34m\u001b[1mAMP: \u001b[0mrunning Automatic Mixed Precision (AMP) checks...\n",
      "\u001b[34m\u001b[1mAMP: \u001b[0mchecks passed ✅\n",
      "\u001b[34m\u001b[1mtrain: \u001b[0mFast image access ✅ (ping: 0.0±0.0 ms, read: 705.0±213.4 MB/s, size: 24.9 KB)\n"
     ]
    },
    {
     "name": "stderr",
     "output_type": "stream",
     "text": [
      "\u001b[34m\u001b[1mtrain: \u001b[0mScanning /kaggle/working/License-Plate-Recognition-2/train/labels.cache... 7057 images, 5 backgrounds, 0 corrupt: 100%|██████████| 7057/7057 [00:00<?, ?it/s]"
     ]
    },
    {
     "name": "stdout",
     "output_type": "stream",
     "text": [
      "\u001b[34m\u001b[1malbumentations: \u001b[0mBlur(p=0.01, blur_limit=(3, 7)), MedianBlur(p=0.01, blur_limit=(3, 7)), ToGray(p=0.01, num_output_channels=3, method='weighted_average'), CLAHE(p=0.01, clip_limit=(1.0, 4.0), tile_grid_size=(8, 8))\n"
     ]
    },
    {
     "name": "stderr",
     "output_type": "stream",
     "text": [
      "\n"
     ]
    },
    {
     "name": "stdout",
     "output_type": "stream",
     "text": [
      "\u001b[34m\u001b[1mval: \u001b[0mFast image access ✅ (ping: 0.0±0.0 ms, read: 220.2±68.6 MB/s, size: 20.8 KB)\n"
     ]
    },
    {
     "name": "stderr",
     "output_type": "stream",
     "text": [
      "\u001b[34m\u001b[1mval: \u001b[0mScanning /kaggle/working/License-Plate-Recognition-2/valid/labels.cache... 2048 images, 3 backgrounds, 0 corrupt: 100%|██████████| 2048/2048 [00:00<?, ?it/s]\n"
     ]
    },
    {
     "name": "stdout",
     "output_type": "stream",
     "text": [
      "Plotting labels to runs/detect/plate-detector-arabic4/labels.jpg... \n",
      "\u001b[34m\u001b[1moptimizer:\u001b[0m 'optimizer=auto' found, ignoring 'lr0=0.01' and 'momentum=0.937' and determining best 'optimizer', 'lr0' and 'momentum' automatically... \n",
      "\u001b[34m\u001b[1moptimizer:\u001b[0m AdamW(lr=0.002, momentum=0.9) with parameter groups 57 weight(decay=0.0), 64 weight(decay=0.0005), 63 bias(decay=0.0)\n",
      "Image sizes 640 train, 640 val\n",
      "Using 2 dataloader workers\n",
      "Logging results to \u001b[1mruns/detect/plate-detector-arabic4\u001b[0m\n",
      "Starting training for 20 epochs...\n",
      "\n",
      "      Epoch    GPU_mem   box_loss   cls_loss   dfl_loss  Instances       Size\n"
     ]
    },
    {
     "name": "stderr",
     "output_type": "stream",
     "text": [
      "       1/20       3.7G      1.255      1.442      1.152          1        640: 100%|██████████| 442/442 [01:15<00:00,  5.87it/s]\n",
      "                 Class     Images  Instances      Box(P          R      mAP50  mAP50-95): 100%|██████████| 64/64 [00:11<00:00,  5.79it/s]\n"
     ]
    },
    {
     "name": "stdout",
     "output_type": "stream",
     "text": [
      "                   all       2048       2195      0.931        0.8      0.876      0.572\n",
      "\n",
      "      Epoch    GPU_mem   box_loss   cls_loss   dfl_loss  Instances       Size\n"
     ]
    },
    {
     "name": "stderr",
     "output_type": "stream",
     "text": [
      "       2/20       3.7G      1.274     0.8476      1.157          4        640: 100%|██████████| 442/442 [01:11<00:00,  6.14it/s]\n",
      "                 Class     Images  Instances      Box(P          R      mAP50  mAP50-95): 100%|██████████| 64/64 [00:10<00:00,  5.85it/s]"
     ]
    },
    {
     "name": "stdout",
     "output_type": "stream",
     "text": [
      "                   all       2048       2195      0.836      0.857      0.848      0.552\n"
     ]
    },
    {
     "name": "stderr",
     "output_type": "stream",
     "text": [
      "\n"
     ]
    },
    {
     "name": "stdout",
     "output_type": "stream",
     "text": [
      "\n",
      "      Epoch    GPU_mem   box_loss   cls_loss   dfl_loss  Instances       Size\n"
     ]
    },
    {
     "name": "stderr",
     "output_type": "stream",
     "text": [
      "       3/20       3.7G       1.27     0.7811       1.16          1        640: 100%|██████████| 442/442 [01:11<00:00,  6.14it/s]\n",
      "                 Class     Images  Instances      Box(P          R      mAP50  mAP50-95): 100%|██████████| 64/64 [00:10<00:00,  6.04it/s]"
     ]
    },
    {
     "name": "stdout",
     "output_type": "stream",
     "text": [
      "                   all       2048       2195      0.893      0.823      0.885      0.574\n"
     ]
    },
    {
     "name": "stderr",
     "output_type": "stream",
     "text": [
      "\n"
     ]
    },
    {
     "name": "stdout",
     "output_type": "stream",
     "text": [
      "\n",
      "      Epoch    GPU_mem   box_loss   cls_loss   dfl_loss  Instances       Size\n"
     ]
    },
    {
     "name": "stderr",
     "output_type": "stream",
     "text": [
      "       4/20       3.7G      1.241     0.7339      1.144          1        640: 100%|██████████| 442/442 [01:11<00:00,  6.17it/s]\n",
      "                 Class     Images  Instances      Box(P          R      mAP50  mAP50-95): 100%|██████████| 64/64 [00:10<00:00,  5.82it/s]"
     ]
    },
    {
     "name": "stdout",
     "output_type": "stream",
     "text": [
      "                   all       2048       2195      0.932      0.863      0.916      0.597\n"
     ]
    },
    {
     "name": "stderr",
     "output_type": "stream",
     "text": [
      "\n"
     ]
    },
    {
     "name": "stdout",
     "output_type": "stream",
     "text": [
      "\n",
      "      Epoch    GPU_mem   box_loss   cls_loss   dfl_loss  Instances       Size\n"
     ]
    },
    {
     "name": "stderr",
     "output_type": "stream",
     "text": [
      "       5/20       3.7G      1.204     0.6801      1.128          3        640: 100%|██████████| 442/442 [01:13<00:00,  6.05it/s]\n",
      "                 Class     Images  Instances      Box(P          R      mAP50  mAP50-95): 100%|██████████| 64/64 [00:11<00:00,  5.77it/s]"
     ]
    },
    {
     "name": "stdout",
     "output_type": "stream",
     "text": [
      "                   all       2048       2195      0.965      0.903       0.94      0.628\n"
     ]
    },
    {
     "name": "stderr",
     "output_type": "stream",
     "text": [
      "\n"
     ]
    },
    {
     "name": "stdout",
     "output_type": "stream",
     "text": [
      "\n",
      "      Epoch    GPU_mem   box_loss   cls_loss   dfl_loss  Instances       Size\n"
     ]
    },
    {
     "name": "stderr",
     "output_type": "stream",
     "text": [
      "       6/20       3.7G      1.199     0.6521      1.114          3        640: 100%|██████████| 442/442 [01:11<00:00,  6.15it/s]\n",
      "                 Class     Images  Instances      Box(P          R      mAP50  mAP50-95): 100%|██████████| 64/64 [00:11<00:00,  5.72it/s]"
     ]
    },
    {
     "name": "stdout",
     "output_type": "stream",
     "text": [
      "                   all       2048       2195      0.961      0.905      0.948      0.637\n"
     ]
    },
    {
     "name": "stderr",
     "output_type": "stream",
     "text": [
      "\n"
     ]
    },
    {
     "name": "stdout",
     "output_type": "stream",
     "text": [
      "\n",
      "      Epoch    GPU_mem   box_loss   cls_loss   dfl_loss  Instances       Size\n"
     ]
    },
    {
     "name": "stderr",
     "output_type": "stream",
     "text": [
      "       7/20       3.7G      1.192     0.6257      1.106          1        640: 100%|██████████| 442/442 [01:11<00:00,  6.14it/s]\n",
      "                 Class     Images  Instances      Box(P          R      mAP50  mAP50-95): 100%|██████████| 64/64 [00:10<00:00,  5.89it/s]"
     ]
    },
    {
     "name": "stdout",
     "output_type": "stream",
     "text": [
      "                   all       2048       2195      0.973      0.921      0.959      0.654\n"
     ]
    },
    {
     "name": "stderr",
     "output_type": "stream",
     "text": [
      "\n"
     ]
    },
    {
     "name": "stdout",
     "output_type": "stream",
     "text": [
      "\n",
      "      Epoch    GPU_mem   box_loss   cls_loss   dfl_loss  Instances       Size\n"
     ]
    },
    {
     "name": "stderr",
     "output_type": "stream",
     "text": [
      "       8/20       3.7G      1.159     0.6098      1.099          2        640: 100%|██████████| 442/442 [01:11<00:00,  6.19it/s]\n",
      "                 Class     Images  Instances      Box(P          R      mAP50  mAP50-95): 100%|██████████| 64/64 [00:10<00:00,  6.01it/s]"
     ]
    },
    {
     "name": "stdout",
     "output_type": "stream",
     "text": [
      "                   all       2048       2195      0.971      0.911       0.95      0.654\n"
     ]
    },
    {
     "name": "stderr",
     "output_type": "stream",
     "text": [
      "\n"
     ]
    },
    {
     "name": "stdout",
     "output_type": "stream",
     "text": [
      "\n",
      "      Epoch    GPU_mem   box_loss   cls_loss   dfl_loss  Instances       Size\n"
     ]
    },
    {
     "name": "stderr",
     "output_type": "stream",
     "text": [
      "       9/20       3.7G      1.153     0.5869      1.091          2        640: 100%|██████████| 442/442 [01:12<00:00,  6.13it/s]\n",
      "                 Class     Images  Instances      Box(P          R      mAP50  mAP50-95): 100%|██████████| 64/64 [00:10<00:00,  5.94it/s]"
     ]
    },
    {
     "name": "stdout",
     "output_type": "stream",
     "text": [
      "                   all       2048       2195      0.986      0.922      0.957      0.659\n"
     ]
    },
    {
     "name": "stderr",
     "output_type": "stream",
     "text": [
      "\n"
     ]
    },
    {
     "name": "stdout",
     "output_type": "stream",
     "text": [
      "\n",
      "      Epoch    GPU_mem   box_loss   cls_loss   dfl_loss  Instances       Size\n"
     ]
    },
    {
     "name": "stderr",
     "output_type": "stream",
     "text": [
      "      10/20       3.7G      1.134     0.5604      1.078          1        640: 100%|██████████| 442/442 [01:11<00:00,  6.17it/s]\n",
      "                 Class     Images  Instances      Box(P          R      mAP50  mAP50-95): 100%|██████████| 64/64 [00:10<00:00,  5.83it/s]"
     ]
    },
    {
     "name": "stdout",
     "output_type": "stream",
     "text": [
      "                   all       2048       2195      0.966      0.925      0.958      0.667\n"
     ]
    },
    {
     "name": "stderr",
     "output_type": "stream",
     "text": [
      "\n"
     ]
    },
    {
     "name": "stdout",
     "output_type": "stream",
     "text": [
      "Closing dataloader mosaic\n",
      "\u001b[34m\u001b[1malbumentations: \u001b[0mBlur(p=0.01, blur_limit=(3, 7)), MedianBlur(p=0.01, blur_limit=(3, 7)), ToGray(p=0.01, num_output_channels=3, method='weighted_average'), CLAHE(p=0.01, clip_limit=(1.0, 4.0), tile_grid_size=(8, 8))\n",
      "\n",
      "      Epoch    GPU_mem   box_loss   cls_loss   dfl_loss  Instances       Size\n"
     ]
    },
    {
     "name": "stderr",
     "output_type": "stream",
     "text": [
      "      11/20       3.7G      1.123     0.5239      1.096          1        640: 100%|██████████| 442/442 [01:11<00:00,  6.19it/s]\n",
      "                 Class     Images  Instances      Box(P          R      mAP50  mAP50-95): 100%|██████████| 64/64 [00:10<00:00,  5.96it/s]"
     ]
    },
    {
     "name": "stdout",
     "output_type": "stream",
     "text": [
      "                   all       2048       2195      0.981      0.923       0.96      0.668\n"
     ]
    },
    {
     "name": "stderr",
     "output_type": "stream",
     "text": [
      "\n"
     ]
    },
    {
     "name": "stdout",
     "output_type": "stream",
     "text": [
      "\n",
      "      Epoch    GPU_mem   box_loss   cls_loss   dfl_loss  Instances       Size\n"
     ]
    },
    {
     "name": "stderr",
     "output_type": "stream",
     "text": [
      "      12/20       3.7G      1.114     0.5082      1.093          2        640: 100%|██████████| 442/442 [01:10<00:00,  6.24it/s]\n",
      "                 Class     Images  Instances      Box(P          R      mAP50  mAP50-95): 100%|██████████| 64/64 [00:11<00:00,  5.77it/s]"
     ]
    },
    {
     "name": "stdout",
     "output_type": "stream",
     "text": [
      "                   all       2048       2195      0.978      0.932      0.964       0.67\n"
     ]
    },
    {
     "name": "stderr",
     "output_type": "stream",
     "text": [
      "\n"
     ]
    },
    {
     "name": "stdout",
     "output_type": "stream",
     "text": [
      "\n",
      "      Epoch    GPU_mem   box_loss   cls_loss   dfl_loss  Instances       Size\n"
     ]
    },
    {
     "name": "stderr",
     "output_type": "stream",
     "text": [
      "      13/20       3.7G      1.098     0.4863      1.079          1        640: 100%|██████████| 442/442 [01:10<00:00,  6.24it/s]\n",
      "                 Class     Images  Instances      Box(P          R      mAP50  mAP50-95): 100%|██████████| 64/64 [00:10<00:00,  6.12it/s]"
     ]
    },
    {
     "name": "stdout",
     "output_type": "stream",
     "text": [
      "                   all       2048       2195       0.98      0.929      0.966      0.685\n"
     ]
    },
    {
     "name": "stderr",
     "output_type": "stream",
     "text": [
      "\n"
     ]
    },
    {
     "name": "stdout",
     "output_type": "stream",
     "text": [
      "\n",
      "      Epoch    GPU_mem   box_loss   cls_loss   dfl_loss  Instances       Size\n"
     ]
    },
    {
     "name": "stderr",
     "output_type": "stream",
     "text": [
      "      14/20       3.7G      1.089     0.4786      1.076          1        640: 100%|██████████| 442/442 [01:10<00:00,  6.30it/s]\n",
      "                 Class     Images  Instances      Box(P          R      mAP50  mAP50-95): 100%|██████████| 64/64 [00:11<00:00,  5.80it/s]"
     ]
    },
    {
     "name": "stdout",
     "output_type": "stream",
     "text": [
      "                   all       2048       2195      0.972      0.934      0.967      0.677\n"
     ]
    },
    {
     "name": "stderr",
     "output_type": "stream",
     "text": [
      "\n"
     ]
    },
    {
     "name": "stdout",
     "output_type": "stream",
     "text": [
      "\n",
      "      Epoch    GPU_mem   box_loss   cls_loss   dfl_loss  Instances       Size\n"
     ]
    },
    {
     "name": "stderr",
     "output_type": "stream",
     "text": [
      "      15/20       3.7G       1.08     0.4669      1.075          1        640: 100%|██████████| 442/442 [01:10<00:00,  6.26it/s]\n",
      "                 Class     Images  Instances      Box(P          R      mAP50  mAP50-95): 100%|██████████| 64/64 [00:10<00:00,  6.04it/s]"
     ]
    },
    {
     "name": "stdout",
     "output_type": "stream",
     "text": [
      "                   all       2048       2195      0.982      0.936      0.969      0.689\n"
     ]
    },
    {
     "name": "stderr",
     "output_type": "stream",
     "text": [
      "\n"
     ]
    },
    {
     "name": "stdout",
     "output_type": "stream",
     "text": [
      "\n",
      "      Epoch    GPU_mem   box_loss   cls_loss   dfl_loss  Instances       Size\n"
     ]
    },
    {
     "name": "stderr",
     "output_type": "stream",
     "text": [
      "      16/20       3.7G      1.067     0.4584      1.066          1        640: 100%|██████████| 442/442 [01:10<00:00,  6.27it/s]\n",
      "                 Class     Images  Instances      Box(P          R      mAP50  mAP50-95): 100%|██████████| 64/64 [00:10<00:00,  6.03it/s]"
     ]
    },
    {
     "name": "stdout",
     "output_type": "stream",
     "text": [
      "                   all       2048       2195      0.978      0.938      0.969      0.692\n"
     ]
    },
    {
     "name": "stderr",
     "output_type": "stream",
     "text": [
      "\n"
     ]
    },
    {
     "name": "stdout",
     "output_type": "stream",
     "text": [
      "\n",
      "      Epoch    GPU_mem   box_loss   cls_loss   dfl_loss  Instances       Size\n"
     ]
    },
    {
     "name": "stderr",
     "output_type": "stream",
     "text": [
      "      17/20       3.7G      1.056     0.4396      1.055          1        640: 100%|██████████| 442/442 [01:10<00:00,  6.24it/s]\n",
      "                 Class     Images  Instances      Box(P          R      mAP50  mAP50-95): 100%|██████████| 64/64 [00:10<00:00,  6.16it/s]"
     ]
    },
    {
     "name": "stdout",
     "output_type": "stream",
     "text": [
      "                   all       2048       2195       0.98      0.942      0.969      0.695\n"
     ]
    },
    {
     "name": "stderr",
     "output_type": "stream",
     "text": [
      "\n"
     ]
    },
    {
     "name": "stdout",
     "output_type": "stream",
     "text": [
      "\n",
      "      Epoch    GPU_mem   box_loss   cls_loss   dfl_loss  Instances       Size\n"
     ]
    },
    {
     "name": "stderr",
     "output_type": "stream",
     "text": [
      "      18/20       3.7G      1.038     0.4263      1.049          1        640: 100%|██████████| 442/442 [01:10<00:00,  6.26it/s]\n",
      "                 Class     Images  Instances      Box(P          R      mAP50  mAP50-95): 100%|██████████| 64/64 [00:10<00:00,  6.19it/s]"
     ]
    },
    {
     "name": "stdout",
     "output_type": "stream",
     "text": [
      "                   all       2048       2195      0.975      0.942       0.97      0.696\n"
     ]
    },
    {
     "name": "stderr",
     "output_type": "stream",
     "text": [
      "\n"
     ]
    },
    {
     "name": "stdout",
     "output_type": "stream",
     "text": [
      "\n",
      "      Epoch    GPU_mem   box_loss   cls_loss   dfl_loss  Instances       Size\n"
     ]
    },
    {
     "name": "stderr",
     "output_type": "stream",
     "text": [
      "      19/20       3.7G       1.03     0.4141      1.043          1        640: 100%|██████████| 442/442 [01:10<00:00,  6.26it/s]\n",
      "                 Class     Images  Instances      Box(P          R      mAP50  mAP50-95): 100%|██████████| 64/64 [00:11<00:00,  5.76it/s]"
     ]
    },
    {
     "name": "stdout",
     "output_type": "stream",
     "text": [
      "                   all       2048       2195      0.981      0.941      0.972        0.7\n"
     ]
    },
    {
     "name": "stderr",
     "output_type": "stream",
     "text": [
      "\n"
     ]
    },
    {
     "name": "stdout",
     "output_type": "stream",
     "text": [
      "\n",
      "      Epoch    GPU_mem   box_loss   cls_loss   dfl_loss  Instances       Size\n"
     ]
    },
    {
     "name": "stderr",
     "output_type": "stream",
     "text": [
      "      20/20       3.7G      1.017      0.403      1.039          1        640: 100%|██████████| 442/442 [01:10<00:00,  6.31it/s]\n",
      "                 Class     Images  Instances      Box(P          R      mAP50  mAP50-95): 100%|██████████| 64/64 [00:10<00:00,  5.96it/s]"
     ]
    },
    {
     "name": "stdout",
     "output_type": "stream",
     "text": [
      "                   all       2048       2195      0.977      0.944      0.971      0.701\n"
     ]
    },
    {
     "name": "stderr",
     "output_type": "stream",
     "text": [
      "\n"
     ]
    },
    {
     "name": "stdout",
     "output_type": "stream",
     "text": [
      "\n",
      "20 epochs completed in 0.459 hours.\n",
      "Optimizer stripped from runs/detect/plate-detector-arabic4/weights/last.pt, 6.2MB\n",
      "Optimizer stripped from runs/detect/plate-detector-arabic4/weights/best.pt, 6.2MB\n",
      "\n",
      "Validating runs/detect/plate-detector-arabic4/weights/best.pt...\n",
      "Ultralytics 8.3.158 🚀 Python-3.11.11 torch-2.6.0+cu124 CUDA:0 (Tesla T4, 15095MiB)\n",
      "Model summary (fused): 72 layers, 3,005,843 parameters, 0 gradients, 8.1 GFLOPs\n"
     ]
    },
    {
     "name": "stderr",
     "output_type": "stream",
     "text": [
      "                 Class     Images  Instances      Box(P          R      mAP50  mAP50-95): 100%|██████████| 64/64 [00:11<00:00,  5.43it/s]\n",
      "invalid value encountered in less\n",
      "invalid value encountered in less\n"
     ]
    },
    {
     "name": "stdout",
     "output_type": "stream",
     "text": [
      "                   all       2048       2195      0.977      0.944      0.971      0.701\n",
      "Speed: 0.1ms preprocess, 1.4ms inference, 0.0ms loss, 1.1ms postprocess per image\n",
      "Results saved to \u001b[1mruns/detect/plate-detector-arabic4\u001b[0m\n"
     ]
    },
    {
     "data": {
      "text/plain": [
       "ultralytics.utils.metrics.DetMetrics object with attributes:\n",
       "\n",
       "ap_class_index: array([0])\n",
       "box: ultralytics.utils.metrics.Metric object\n",
       "confusion_matrix: <ultralytics.utils.metrics.ConfusionMatrix object at 0x7a78308c53d0>\n",
       "curves: ['Precision-Recall(B)', 'F1-Confidence(B)', 'Precision-Confidence(B)', 'Recall-Confidence(B)']\n",
       "curves_results: [[array([          0,    0.001001,    0.002002,    0.003003,    0.004004,    0.005005,    0.006006,    0.007007,    0.008008,    0.009009,     0.01001,    0.011011,    0.012012,    0.013013,    0.014014,    0.015015,    0.016016,    0.017017,    0.018018,    0.019019,     0.02002,    0.021021,    0.022022,    0.023023,\n",
       "          0.024024,    0.025025,    0.026026,    0.027027,    0.028028,    0.029029,     0.03003,    0.031031,    0.032032,    0.033033,    0.034034,    0.035035,    0.036036,    0.037037,    0.038038,    0.039039,     0.04004,    0.041041,    0.042042,    0.043043,    0.044044,    0.045045,    0.046046,    0.047047,\n",
       "          0.048048,    0.049049,     0.05005,    0.051051,    0.052052,    0.053053,    0.054054,    0.055055,    0.056056,    0.057057,    0.058058,    0.059059,     0.06006,    0.061061,    0.062062,    0.063063,    0.064064,    0.065065,    0.066066,    0.067067,    0.068068,    0.069069,     0.07007,    0.071071,\n",
       "          0.072072,    0.073073,    0.074074,    0.075075,    0.076076,    0.077077,    0.078078,    0.079079,     0.08008,    0.081081,    0.082082,    0.083083,    0.084084,    0.085085,    0.086086,    0.087087,    0.088088,    0.089089,     0.09009,    0.091091,    0.092092,    0.093093,    0.094094,    0.095095,\n",
       "          0.096096,    0.097097,    0.098098,    0.099099,      0.1001,      0.1011,      0.1021,      0.1031,      0.1041,     0.10511,     0.10611,     0.10711,     0.10811,     0.10911,     0.11011,     0.11111,     0.11211,     0.11311,     0.11411,     0.11512,     0.11612,     0.11712,     0.11812,     0.11912,\n",
       "           0.12012,     0.12112,     0.12212,     0.12312,     0.12412,     0.12513,     0.12613,     0.12713,     0.12813,     0.12913,     0.13013,     0.13113,     0.13213,     0.13313,     0.13413,     0.13514,     0.13614,     0.13714,     0.13814,     0.13914,     0.14014,     0.14114,     0.14214,     0.14314,\n",
       "           0.14414,     0.14515,     0.14615,     0.14715,     0.14815,     0.14915,     0.15015,     0.15115,     0.15215,     0.15315,     0.15415,     0.15516,     0.15616,     0.15716,     0.15816,     0.15916,     0.16016,     0.16116,     0.16216,     0.16316,     0.16416,     0.16517,     0.16617,     0.16717,\n",
       "           0.16817,     0.16917,     0.17017,     0.17117,     0.17217,     0.17317,     0.17417,     0.17518,     0.17618,     0.17718,     0.17818,     0.17918,     0.18018,     0.18118,     0.18218,     0.18318,     0.18418,     0.18519,     0.18619,     0.18719,     0.18819,     0.18919,     0.19019,     0.19119,\n",
       "           0.19219,     0.19319,     0.19419,      0.1952,      0.1962,      0.1972,      0.1982,      0.1992,      0.2002,      0.2012,      0.2022,      0.2032,      0.2042,     0.20521,     0.20621,     0.20721,     0.20821,     0.20921,     0.21021,     0.21121,     0.21221,     0.21321,     0.21421,     0.21522,\n",
       "           0.21622,     0.21722,     0.21822,     0.21922,     0.22022,     0.22122,     0.22222,     0.22322,     0.22422,     0.22523,     0.22623,     0.22723,     0.22823,     0.22923,     0.23023,     0.23123,     0.23223,     0.23323,     0.23423,     0.23524,     0.23624,     0.23724,     0.23824,     0.23924,\n",
       "           0.24024,     0.24124,     0.24224,     0.24324,     0.24424,     0.24525,     0.24625,     0.24725,     0.24825,     0.24925,     0.25025,     0.25125,     0.25225,     0.25325,     0.25425,     0.25526,     0.25626,     0.25726,     0.25826,     0.25926,     0.26026,     0.26126,     0.26226,     0.26326,\n",
       "           0.26426,     0.26527,     0.26627,     0.26727,     0.26827,     0.26927,     0.27027,     0.27127,     0.27227,     0.27327,     0.27427,     0.27528,     0.27628,     0.27728,     0.27828,     0.27928,     0.28028,     0.28128,     0.28228,     0.28328,     0.28428,     0.28529,     0.28629,     0.28729,\n",
       "           0.28829,     0.28929,     0.29029,     0.29129,     0.29229,     0.29329,     0.29429,      0.2953,      0.2963,      0.2973,      0.2983,      0.2993,      0.3003,      0.3013,      0.3023,      0.3033,      0.3043,     0.30531,     0.30631,     0.30731,     0.30831,     0.30931,     0.31031,     0.31131,\n",
       "           0.31231,     0.31331,     0.31431,     0.31532,     0.31632,     0.31732,     0.31832,     0.31932,     0.32032,     0.32132,     0.32232,     0.32332,     0.32432,     0.32533,     0.32633,     0.32733,     0.32833,     0.32933,     0.33033,     0.33133,     0.33233,     0.33333,     0.33433,     0.33534,\n",
       "           0.33634,     0.33734,     0.33834,     0.33934,     0.34034,     0.34134,     0.34234,     0.34334,     0.34434,     0.34535,     0.34635,     0.34735,     0.34835,     0.34935,     0.35035,     0.35135,     0.35235,     0.35335,     0.35435,     0.35536,     0.35636,     0.35736,     0.35836,     0.35936,\n",
       "           0.36036,     0.36136,     0.36236,     0.36336,     0.36436,     0.36537,     0.36637,     0.36737,     0.36837,     0.36937,     0.37037,     0.37137,     0.37237,     0.37337,     0.37437,     0.37538,     0.37638,     0.37738,     0.37838,     0.37938,     0.38038,     0.38138,     0.38238,     0.38338,\n",
       "           0.38438,     0.38539,     0.38639,     0.38739,     0.38839,     0.38939,     0.39039,     0.39139,     0.39239,     0.39339,     0.39439,      0.3954,      0.3964,      0.3974,      0.3984,      0.3994,      0.4004,      0.4014,      0.4024,      0.4034,      0.4044,     0.40541,     0.40641,     0.40741,\n",
       "           0.40841,     0.40941,     0.41041,     0.41141,     0.41241,     0.41341,     0.41441,     0.41542,     0.41642,     0.41742,     0.41842,     0.41942,     0.42042,     0.42142,     0.42242,     0.42342,     0.42442,     0.42543,     0.42643,     0.42743,     0.42843,     0.42943,     0.43043,     0.43143,\n",
       "           0.43243,     0.43343,     0.43443,     0.43544,     0.43644,     0.43744,     0.43844,     0.43944,     0.44044,     0.44144,     0.44244,     0.44344,     0.44444,     0.44545,     0.44645,     0.44745,     0.44845,     0.44945,     0.45045,     0.45145,     0.45245,     0.45345,     0.45445,     0.45546,\n",
       "           0.45646,     0.45746,     0.45846,     0.45946,     0.46046,     0.46146,     0.46246,     0.46346,     0.46446,     0.46547,     0.46647,     0.46747,     0.46847,     0.46947,     0.47047,     0.47147,     0.47247,     0.47347,     0.47447,     0.47548,     0.47648,     0.47748,     0.47848,     0.47948,\n",
       "           0.48048,     0.48148,     0.48248,     0.48348,     0.48448,     0.48549,     0.48649,     0.48749,     0.48849,     0.48949,     0.49049,     0.49149,     0.49249,     0.49349,     0.49449,      0.4955,      0.4965,      0.4975,      0.4985,      0.4995,      0.5005,      0.5015,      0.5025,      0.5035,\n",
       "            0.5045,     0.50551,     0.50651,     0.50751,     0.50851,     0.50951,     0.51051,     0.51151,     0.51251,     0.51351,     0.51451,     0.51552,     0.51652,     0.51752,     0.51852,     0.51952,     0.52052,     0.52152,     0.52252,     0.52352,     0.52452,     0.52553,     0.52653,     0.52753,\n",
       "           0.52853,     0.52953,     0.53053,     0.53153,     0.53253,     0.53353,     0.53453,     0.53554,     0.53654,     0.53754,     0.53854,     0.53954,     0.54054,     0.54154,     0.54254,     0.54354,     0.54454,     0.54555,     0.54655,     0.54755,     0.54855,     0.54955,     0.55055,     0.55155,\n",
       "           0.55255,     0.55355,     0.55455,     0.55556,     0.55656,     0.55756,     0.55856,     0.55956,     0.56056,     0.56156,     0.56256,     0.56356,     0.56456,     0.56557,     0.56657,     0.56757,     0.56857,     0.56957,     0.57057,     0.57157,     0.57257,     0.57357,     0.57457,     0.57558,\n",
       "           0.57658,     0.57758,     0.57858,     0.57958,     0.58058,     0.58158,     0.58258,     0.58358,     0.58458,     0.58559,     0.58659,     0.58759,     0.58859,     0.58959,     0.59059,     0.59159,     0.59259,     0.59359,     0.59459,      0.5956,      0.5966,      0.5976,      0.5986,      0.5996,\n",
       "            0.6006,      0.6016,      0.6026,      0.6036,      0.6046,     0.60561,     0.60661,     0.60761,     0.60861,     0.60961,     0.61061,     0.61161,     0.61261,     0.61361,     0.61461,     0.61562,     0.61662,     0.61762,     0.61862,     0.61962,     0.62062,     0.62162,     0.62262,     0.62362,\n",
       "           0.62462,     0.62563,     0.62663,     0.62763,     0.62863,     0.62963,     0.63063,     0.63163,     0.63263,     0.63363,     0.63463,     0.63564,     0.63664,     0.63764,     0.63864,     0.63964,     0.64064,     0.64164,     0.64264,     0.64364,     0.64464,     0.64565,     0.64665,     0.64765,\n",
       "           0.64865,     0.64965,     0.65065,     0.65165,     0.65265,     0.65365,     0.65465,     0.65566,     0.65666,     0.65766,     0.65866,     0.65966,     0.66066,     0.66166,     0.66266,     0.66366,     0.66466,     0.66567,     0.66667,     0.66767,     0.66867,     0.66967,     0.67067,     0.67167,\n",
       "           0.67267,     0.67367,     0.67467,     0.67568,     0.67668,     0.67768,     0.67868,     0.67968,     0.68068,     0.68168,     0.68268,     0.68368,     0.68468,     0.68569,     0.68669,     0.68769,     0.68869,     0.68969,     0.69069,     0.69169,     0.69269,     0.69369,     0.69469,      0.6957,\n",
       "            0.6967,      0.6977,      0.6987,      0.6997,      0.7007,      0.7017,      0.7027,      0.7037,      0.7047,     0.70571,     0.70671,     0.70771,     0.70871,     0.70971,     0.71071,     0.71171,     0.71271,     0.71371,     0.71471,     0.71572,     0.71672,     0.71772,     0.71872,     0.71972,\n",
       "           0.72072,     0.72172,     0.72272,     0.72372,     0.72472,     0.72573,     0.72673,     0.72773,     0.72873,     0.72973,     0.73073,     0.73173,     0.73273,     0.73373,     0.73473,     0.73574,     0.73674,     0.73774,     0.73874,     0.73974,     0.74074,     0.74174,     0.74274,     0.74374,\n",
       "           0.74474,     0.74575,     0.74675,     0.74775,     0.74875,     0.74975,     0.75075,     0.75175,     0.75275,     0.75375,     0.75475,     0.75576,     0.75676,     0.75776,     0.75876,     0.75976,     0.76076,     0.76176,     0.76276,     0.76376,     0.76476,     0.76577,     0.76677,     0.76777,\n",
       "           0.76877,     0.76977,     0.77077,     0.77177,     0.77277,     0.77377,     0.77477,     0.77578,     0.77678,     0.77778,     0.77878,     0.77978,     0.78078,     0.78178,     0.78278,     0.78378,     0.78478,     0.78579,     0.78679,     0.78779,     0.78879,     0.78979,     0.79079,     0.79179,\n",
       "           0.79279,     0.79379,     0.79479,      0.7958,      0.7968,      0.7978,      0.7988,      0.7998,      0.8008,      0.8018,      0.8028,      0.8038,      0.8048,     0.80581,     0.80681,     0.80781,     0.80881,     0.80981,     0.81081,     0.81181,     0.81281,     0.81381,     0.81481,     0.81582,\n",
       "           0.81682,     0.81782,     0.81882,     0.81982,     0.82082,     0.82182,     0.82282,     0.82382,     0.82482,     0.82583,     0.82683,     0.82783,     0.82883,     0.82983,     0.83083,     0.83183,     0.83283,     0.83383,     0.83483,     0.83584,     0.83684,     0.83784,     0.83884,     0.83984,\n",
       "           0.84084,     0.84184,     0.84284,     0.84384,     0.84484,     0.84585,     0.84685,     0.84785,     0.84885,     0.84985,     0.85085,     0.85185,     0.85285,     0.85385,     0.85485,     0.85586,     0.85686,     0.85786,     0.85886,     0.85986,     0.86086,     0.86186,     0.86286,     0.86386,\n",
       "           0.86486,     0.86587,     0.86687,     0.86787,     0.86887,     0.86987,     0.87087,     0.87187,     0.87287,     0.87387,     0.87487,     0.87588,     0.87688,     0.87788,     0.87888,     0.87988,     0.88088,     0.88188,     0.88288,     0.88388,     0.88488,     0.88589,     0.88689,     0.88789,\n",
       "           0.88889,     0.88989,     0.89089,     0.89189,     0.89289,     0.89389,     0.89489,      0.8959,      0.8969,      0.8979,      0.8989,      0.8999,      0.9009,      0.9019,      0.9029,      0.9039,      0.9049,     0.90591,     0.90691,     0.90791,     0.90891,     0.90991,     0.91091,     0.91191,\n",
       "           0.91291,     0.91391,     0.91491,     0.91592,     0.91692,     0.91792,     0.91892,     0.91992,     0.92092,     0.92192,     0.92292,     0.92392,     0.92492,     0.92593,     0.92693,     0.92793,     0.92893,     0.92993,     0.93093,     0.93193,     0.93293,     0.93393,     0.93493,     0.93594,\n",
       "           0.93694,     0.93794,     0.93894,     0.93994,     0.94094,     0.94194,     0.94294,     0.94394,     0.94494,     0.94595,     0.94695,     0.94795,     0.94895,     0.94995,     0.95095,     0.95195,     0.95295,     0.95395,     0.95495,     0.95596,     0.95696,     0.95796,     0.95896,     0.95996,\n",
       "           0.96096,     0.96196,     0.96296,     0.96396,     0.96496,     0.96597,     0.96697,     0.96797,     0.96897,     0.96997,     0.97097,     0.97197,     0.97297,     0.97397,     0.97497,     0.97598,     0.97698,     0.97798,     0.97898,     0.97998,     0.98098,     0.98198,     0.98298,     0.98398,\n",
       "           0.98498,     0.98599,     0.98699,     0.98799,     0.98899,     0.98999,     0.99099,     0.99199,     0.99299,     0.99399,     0.99499,       0.996,       0.997,       0.998,       0.999,           1]), array([[          1,           1,           1,           1,           1,           1,           1,           1,           1,           1,           1,           1,           1,           1,           1,           1,           1,           1,           1,           1,           1,           1,           1,\n",
       "                  1,           1,           1,           1,           1,           1,           1,           1,           1,           1,           1,           1,           1,           1,           1,           1,           1,           1,           1,           1,           1,           1,           1,\n",
       "                  1,           1,           1,           1,           1,           1,           1,           1,           1,           1,           1,           1,           1,           1,           1,           1,           1,           1,           1,           1,           1,           1,           1,\n",
       "                  1,           1,           1,           1,           1,           1,           1,           1,           1,           1,           1,           1,           1,           1,           1,           1,           1,           1,           1,           1,           1,           1,           1,\n",
       "                  1,           1,           1,           1,           1,           1,           1,           1,           1,           1,           1,           1,           1,           1,           1,           1,           1,           1,           1,           1,           1,           1,           1,\n",
       "                  1,           1,           1,           1,           1,           1,           1,           1,           1,           1,           1,           1,           1,           1,           1,           1,           1,           1,           1,           1,           1,           1,           1,\n",
       "                  1,           1,           1,           1,           1,           1,           1,           1,           1,           1,           1,           1,           1,           1,           1,           1,           1,           1,           1,           1,           1,           1,           1,\n",
       "                  1,           1,           1,           1,           1,           1,           1,           1,           1,           1,           1,           1,           1,           1,           1,           1,           1,           1,           1,           1,           1,           1,           1,\n",
       "                  1,           1,           1,           1,           1,           1,           1,           1,           1,           1,           1,           1,           1,           1,           1,           1,           1,           1,           1,           1,           1,           1,           1,\n",
       "                  1,           1,           1,           1,           1,           1,           1,           1,           1,           1,           1,           1,           1,           1,           1,           1,           1,           1,           1,           1,           1,           1,           1,\n",
       "                  1,           1,           1,           1,           1,           1,           1,           1,           1,           1,           1,           1,           1,           1,           1,           1,           1,           1,           1,           1,           1,           1,           1,\n",
       "                  1,           1,           1,           1,           1,           1,           1,           1,           1,           1,           1,           1,           1,           1,           1,           1,           1,           1,           1,           1,           1,           1,           1,\n",
       "                  1,           1,           1,           1,           1,           1,           1,           1,           1,           1,           1,           1,           1,           1,           1,           1,           1,           1,           1,           1,           1,           1,           1,\n",
       "                  1,           1,           1,           1,           1,           1,           1,           1,           1,           1,           1,           1,           1,           1,           1,           1,           1,           1,           1,           1,           1,           1,           1,\n",
       "                  1,           1,           1,           1,           1,           1,           1,           1,           1,           1,           1,           1,           1,           1,           1,           1,           1,           1,           1,           1,           1,           1,           1,\n",
       "                  1,           1,           1,           1,           1,           1,           1,           1,           1,           1,           1,           1,           1,           1,           1,           1,           1,           1,           1,           1,           1,           1,           1,\n",
       "                  1,           1,           1,           1,           1,           1,           1,           1,           1,           1,           1,           1,           1,           1,           1,           1,           1,           1,           1,           1,           1,           1,           1,\n",
       "                  1,           1,           1,           1,           1,           1,           1,           1,           1,           1,           1,           1,           1,           1,           1,           1,           1,           1,           1,           1,           1,           1,           1,\n",
       "                  1,           1,           1,           1,           1,           1,           1,           1,           1,           1,           1,           1,           1,           1,           1,           1,           1,           1,           1,           1,           1,           1,           1,\n",
       "                  1,           1,           1,           1,           1,           1,           1,           1,           1,           1,           1,           1,           1,           1,           1,           1,           1,           1,           1,           1,           1,           1,           1,\n",
       "                  1,           1,           1,           1,     0.99932,     0.99932,     0.99932,     0.99932,     0.99932,     0.99932,     0.99932,     0.99932,     0.99932,     0.99932,     0.99932,     0.99932,     0.99932,     0.99932,     0.99932,     0.99932,     0.99932,     0.99932,     0.99932,\n",
       "            0.99932,     0.99932,     0.99932,     0.99932,     0.99932,     0.99932,     0.99932,     0.99932,     0.99932,     0.99932,     0.99932,     0.99932,     0.99932,     0.99932,     0.99932,     0.99932,     0.99932,     0.99932,     0.99932,     0.99932,     0.99932,     0.99932,     0.99932,\n",
       "            0.99932,     0.99932,     0.99932,     0.99932,     0.99932,     0.99932,     0.99932,     0.99932,     0.99932,     0.99932,     0.99932,     0.99932,     0.99932,     0.99932,     0.99932,     0.99932,     0.99932,     0.99932,     0.99932,     0.99932,     0.99932,     0.99932,     0.99932,\n",
       "            0.99932,     0.99932,     0.99932,     0.99932,     0.99932,     0.99932,     0.99932,     0.99932,     0.99932,     0.99932,     0.99932,     0.99932,     0.99932,     0.99932,     0.99932,     0.99932,     0.99932,     0.99932,     0.99932,     0.99932,     0.99932,     0.99932,     0.99932,\n",
       "            0.99932,     0.99932,     0.99932,     0.99932,     0.99932,     0.99932,     0.99932,     0.99932,     0.99932,     0.99932,     0.99932,     0.99932,     0.99932,     0.99932,     0.99932,     0.99932,     0.99932,     0.99932,     0.99932,     0.99932,     0.99932,     0.99932,     0.99932,\n",
       "            0.99932,     0.99932,     0.99932,     0.99932,     0.99932,     0.99932,     0.99932,     0.99932,     0.99932,     0.99932,     0.99932,     0.99932,     0.99932,     0.99932,     0.99932,     0.99932,     0.99932,     0.99932,     0.99932,     0.99932,     0.99932,     0.99932,     0.99932,\n",
       "            0.99932,     0.99932,     0.99932,     0.99932,     0.99932,     0.99932,     0.99932,     0.99932,     0.99932,     0.99932,     0.99932,     0.99932,     0.99932,     0.99932,     0.99932,     0.99932,     0.99932,     0.99932,     0.99932,     0.99932,     0.99932,     0.99932,     0.99932,\n",
       "            0.99932,     0.99932,     0.99932,     0.99932,     0.99932,     0.99932,     0.99932,     0.99932,     0.99932,     0.99932,     0.99932,     0.99932,     0.99932,     0.99932,     0.99932,     0.99932,     0.99932,     0.99932,     0.99932,     0.99932,     0.99932,     0.99932,     0.99932,\n",
       "            0.99932,     0.99932,     0.99932,     0.99932,     0.99932,     0.99932,     0.99932,     0.99932,     0.99932,     0.99932,     0.99932,     0.99932,     0.99932,     0.99932,     0.99932,     0.99932,     0.99932,     0.99932,     0.99932,     0.99932,     0.99932,     0.99932,     0.99932,\n",
       "            0.99932,     0.99932,     0.99932,     0.99871,     0.99871,     0.99871,     0.99871,     0.99871,     0.99871,     0.99871,     0.99871,     0.99871,     0.99871,     0.99871,     0.99871,     0.99871,     0.99871,     0.99871,     0.99871,     0.99871,     0.99871,     0.99871,     0.99871,\n",
       "            0.99871,     0.99871,     0.99871,     0.99871,     0.99871,     0.99871,     0.99871,     0.99871,     0.99871,     0.99871,     0.99871,     0.99871,     0.99871,     0.99871,     0.99871,     0.99871,     0.99808,     0.99808,     0.99808,     0.99808,     0.99777,     0.99777,     0.99777,\n",
       "            0.99777,     0.99777,     0.99777,     0.99777,     0.99777,     0.99777,     0.99777,     0.99777,     0.99777,     0.99777,     0.99777,     0.99777,     0.99777,     0.99777,     0.99777,     0.99777,     0.99777,     0.99777,     0.99777,     0.99777,     0.99777,     0.99777,     0.99777,\n",
       "            0.99777,     0.99777,     0.99777,     0.99777,     0.99777,     0.99777,     0.99777,     0.99777,     0.99777,     0.99777,     0.99777,     0.99777,     0.99777,     0.99777,     0.99777,     0.99777,     0.99777,     0.99777,     0.99777,     0.99777,     0.99777,     0.99777,     0.99777,\n",
       "            0.99777,     0.99777,     0.99777,     0.99777,     0.99777,     0.99777,     0.99777,     0.99777,     0.99777,     0.99777,     0.99777,     0.99777,     0.99777,     0.99777,     0.99777,     0.99777,     0.99777,     0.99777,     0.99777,     0.99777,     0.99777,     0.99777,     0.99777,\n",
       "            0.99777,     0.99777,     0.99777,     0.99777,     0.99777,     0.99777,     0.99777,     0.99777,     0.99777,     0.99777,     0.99777,     0.99777,     0.99777,     0.99777,     0.99777,     0.99777,     0.99777,     0.99777,     0.99777,     0.99777,     0.99777,     0.99777,     0.99777,\n",
       "            0.99777,     0.99777,     0.99777,     0.99777,     0.99777,     0.99777,     0.99777,     0.99777,     0.99777,     0.99777,     0.99777,     0.99723,     0.99723,     0.99723,     0.99723,     0.99723,     0.99681,     0.99681,     0.99681,     0.99681,     0.99681,     0.99681,     0.99681,\n",
       "            0.99681,     0.99681,     0.99681,     0.99681,     0.99681,     0.99681,     0.99681,     0.99681,     0.99681,     0.99681,     0.99681,     0.99681,     0.99681,     0.99681,     0.99681,     0.99681,     0.99681,     0.99681,     0.99681,     0.99681,     0.99681,     0.99681,     0.99681,\n",
       "            0.99681,     0.99681,     0.99681,     0.99681,     0.99633,     0.99633,     0.99633,     0.99633,     0.99633,     0.99633,     0.99633,     0.99633,     0.99633,     0.99633,     0.99633,     0.99592,     0.99592,     0.99592,     0.99592,     0.99592,     0.99592,     0.99592,     0.99592,\n",
       "            0.99592,     0.99592,     0.99592,     0.99592,     0.99592,     0.99592,     0.99592,     0.99592,     0.99592,     0.99592,     0.99592,     0.99592,     0.99592,     0.99592,     0.99592,     0.99543,     0.99543,     0.99543,     0.99543,     0.99495,     0.99495,     0.99495,     0.99495,\n",
       "            0.99448,     0.99448,     0.99448,     0.99448,     0.99448,     0.99448,       0.994,       0.994,     0.99351,     0.99351,     0.99305,     0.99305,     0.99305,     0.99257,     0.99257,     0.99215,     0.99215,     0.99215,     0.99215,     0.99215,     0.99215,     0.99215,     0.99215,\n",
       "            0.99215,     0.99168,     0.99168,     0.99076,     0.99076,     0.99076,     0.99076,     0.99076,     0.99029,     0.98842,     0.98842,     0.98842,     0.98842,       0.987,     0.98655,     0.98514,     0.98421,     0.98329,     0.98144,     0.97964,     0.97964,     0.97964,     0.97826,\n",
       "            0.97691,     0.97555,     0.97195,     0.97195,     0.96971,     0.96659,     0.96173,     0.95868,     0.95043,     0.94703,     0.94537,     0.93616,     0.93289,     0.92923,     0.92277,     0.90929,     0.89246,     0.88068,     0.87604,     0.87355,     0.86721,     0.81157,     0.79438,\n",
       "             0.7288,     0.68971,     0.63893,     0.54728,      0.4653,     0.35902,     0.31345,     0.30184,     0.29024,     0.27863,     0.26702,     0.25541,      0.2438,     0.23219,     0.22058,     0.20897,     0.19736,     0.18575,     0.17414,     0.16253,     0.15092,     0.13931,      0.1277,\n",
       "            0.11609,     0.10448,    0.092875,    0.081266,    0.069656,    0.058047,    0.046438,    0.034828,    0.023219,    0.011609,           0]]), 'Recall', 'Precision'], [array([          0,    0.001001,    0.002002,    0.003003,    0.004004,    0.005005,    0.006006,    0.007007,    0.008008,    0.009009,     0.01001,    0.011011,    0.012012,    0.013013,    0.014014,    0.015015,    0.016016,    0.017017,    0.018018,    0.019019,     0.02002,    0.021021,    0.022022,    0.023023,\n",
       "          0.024024,    0.025025,    0.026026,    0.027027,    0.028028,    0.029029,     0.03003,    0.031031,    0.032032,    0.033033,    0.034034,    0.035035,    0.036036,    0.037037,    0.038038,    0.039039,     0.04004,    0.041041,    0.042042,    0.043043,    0.044044,    0.045045,    0.046046,    0.047047,\n",
       "          0.048048,    0.049049,     0.05005,    0.051051,    0.052052,    0.053053,    0.054054,    0.055055,    0.056056,    0.057057,    0.058058,    0.059059,     0.06006,    0.061061,    0.062062,    0.063063,    0.064064,    0.065065,    0.066066,    0.067067,    0.068068,    0.069069,     0.07007,    0.071071,\n",
       "          0.072072,    0.073073,    0.074074,    0.075075,    0.076076,    0.077077,    0.078078,    0.079079,     0.08008,    0.081081,    0.082082,    0.083083,    0.084084,    0.085085,    0.086086,    0.087087,    0.088088,    0.089089,     0.09009,    0.091091,    0.092092,    0.093093,    0.094094,    0.095095,\n",
       "          0.096096,    0.097097,    0.098098,    0.099099,      0.1001,      0.1011,      0.1021,      0.1031,      0.1041,     0.10511,     0.10611,     0.10711,     0.10811,     0.10911,     0.11011,     0.11111,     0.11211,     0.11311,     0.11411,     0.11512,     0.11612,     0.11712,     0.11812,     0.11912,\n",
       "           0.12012,     0.12112,     0.12212,     0.12312,     0.12412,     0.12513,     0.12613,     0.12713,     0.12813,     0.12913,     0.13013,     0.13113,     0.13213,     0.13313,     0.13413,     0.13514,     0.13614,     0.13714,     0.13814,     0.13914,     0.14014,     0.14114,     0.14214,     0.14314,\n",
       "           0.14414,     0.14515,     0.14615,     0.14715,     0.14815,     0.14915,     0.15015,     0.15115,     0.15215,     0.15315,     0.15415,     0.15516,     0.15616,     0.15716,     0.15816,     0.15916,     0.16016,     0.16116,     0.16216,     0.16316,     0.16416,     0.16517,     0.16617,     0.16717,\n",
       "           0.16817,     0.16917,     0.17017,     0.17117,     0.17217,     0.17317,     0.17417,     0.17518,     0.17618,     0.17718,     0.17818,     0.17918,     0.18018,     0.18118,     0.18218,     0.18318,     0.18418,     0.18519,     0.18619,     0.18719,     0.18819,     0.18919,     0.19019,     0.19119,\n",
       "           0.19219,     0.19319,     0.19419,      0.1952,      0.1962,      0.1972,      0.1982,      0.1992,      0.2002,      0.2012,      0.2022,      0.2032,      0.2042,     0.20521,     0.20621,     0.20721,     0.20821,     0.20921,     0.21021,     0.21121,     0.21221,     0.21321,     0.21421,     0.21522,\n",
       "           0.21622,     0.21722,     0.21822,     0.21922,     0.22022,     0.22122,     0.22222,     0.22322,     0.22422,     0.22523,     0.22623,     0.22723,     0.22823,     0.22923,     0.23023,     0.23123,     0.23223,     0.23323,     0.23423,     0.23524,     0.23624,     0.23724,     0.23824,     0.23924,\n",
       "           0.24024,     0.24124,     0.24224,     0.24324,     0.24424,     0.24525,     0.24625,     0.24725,     0.24825,     0.24925,     0.25025,     0.25125,     0.25225,     0.25325,     0.25425,     0.25526,     0.25626,     0.25726,     0.25826,     0.25926,     0.26026,     0.26126,     0.26226,     0.26326,\n",
       "           0.26426,     0.26527,     0.26627,     0.26727,     0.26827,     0.26927,     0.27027,     0.27127,     0.27227,     0.27327,     0.27427,     0.27528,     0.27628,     0.27728,     0.27828,     0.27928,     0.28028,     0.28128,     0.28228,     0.28328,     0.28428,     0.28529,     0.28629,     0.28729,\n",
       "           0.28829,     0.28929,     0.29029,     0.29129,     0.29229,     0.29329,     0.29429,      0.2953,      0.2963,      0.2973,      0.2983,      0.2993,      0.3003,      0.3013,      0.3023,      0.3033,      0.3043,     0.30531,     0.30631,     0.30731,     0.30831,     0.30931,     0.31031,     0.31131,\n",
       "           0.31231,     0.31331,     0.31431,     0.31532,     0.31632,     0.31732,     0.31832,     0.31932,     0.32032,     0.32132,     0.32232,     0.32332,     0.32432,     0.32533,     0.32633,     0.32733,     0.32833,     0.32933,     0.33033,     0.33133,     0.33233,     0.33333,     0.33433,     0.33534,\n",
       "           0.33634,     0.33734,     0.33834,     0.33934,     0.34034,     0.34134,     0.34234,     0.34334,     0.34434,     0.34535,     0.34635,     0.34735,     0.34835,     0.34935,     0.35035,     0.35135,     0.35235,     0.35335,     0.35435,     0.35536,     0.35636,     0.35736,     0.35836,     0.35936,\n",
       "           0.36036,     0.36136,     0.36236,     0.36336,     0.36436,     0.36537,     0.36637,     0.36737,     0.36837,     0.36937,     0.37037,     0.37137,     0.37237,     0.37337,     0.37437,     0.37538,     0.37638,     0.37738,     0.37838,     0.37938,     0.38038,     0.38138,     0.38238,     0.38338,\n",
       "           0.38438,     0.38539,     0.38639,     0.38739,     0.38839,     0.38939,     0.39039,     0.39139,     0.39239,     0.39339,     0.39439,      0.3954,      0.3964,      0.3974,      0.3984,      0.3994,      0.4004,      0.4014,      0.4024,      0.4034,      0.4044,     0.40541,     0.40641,     0.40741,\n",
       "           0.40841,     0.40941,     0.41041,     0.41141,     0.41241,     0.41341,     0.41441,     0.41542,     0.41642,     0.41742,     0.41842,     0.41942,     0.42042,     0.42142,     0.42242,     0.42342,     0.42442,     0.42543,     0.42643,     0.42743,     0.42843,     0.42943,     0.43043,     0.43143,\n",
       "           0.43243,     0.43343,     0.43443,     0.43544,     0.43644,     0.43744,     0.43844,     0.43944,     0.44044,     0.44144,     0.44244,     0.44344,     0.44444,     0.44545,     0.44645,     0.44745,     0.44845,     0.44945,     0.45045,     0.45145,     0.45245,     0.45345,     0.45445,     0.45546,\n",
       "           0.45646,     0.45746,     0.45846,     0.45946,     0.46046,     0.46146,     0.46246,     0.46346,     0.46446,     0.46547,     0.46647,     0.46747,     0.46847,     0.46947,     0.47047,     0.47147,     0.47247,     0.47347,     0.47447,     0.47548,     0.47648,     0.47748,     0.47848,     0.47948,\n",
       "           0.48048,     0.48148,     0.48248,     0.48348,     0.48448,     0.48549,     0.48649,     0.48749,     0.48849,     0.48949,     0.49049,     0.49149,     0.49249,     0.49349,     0.49449,      0.4955,      0.4965,      0.4975,      0.4985,      0.4995,      0.5005,      0.5015,      0.5025,      0.5035,\n",
       "            0.5045,     0.50551,     0.50651,     0.50751,     0.50851,     0.50951,     0.51051,     0.51151,     0.51251,     0.51351,     0.51451,     0.51552,     0.51652,     0.51752,     0.51852,     0.51952,     0.52052,     0.52152,     0.52252,     0.52352,     0.52452,     0.52553,     0.52653,     0.52753,\n",
       "           0.52853,     0.52953,     0.53053,     0.53153,     0.53253,     0.53353,     0.53453,     0.53554,     0.53654,     0.53754,     0.53854,     0.53954,     0.54054,     0.54154,     0.54254,     0.54354,     0.54454,     0.54555,     0.54655,     0.54755,     0.54855,     0.54955,     0.55055,     0.55155,\n",
       "           0.55255,     0.55355,     0.55455,     0.55556,     0.55656,     0.55756,     0.55856,     0.55956,     0.56056,     0.56156,     0.56256,     0.56356,     0.56456,     0.56557,     0.56657,     0.56757,     0.56857,     0.56957,     0.57057,     0.57157,     0.57257,     0.57357,     0.57457,     0.57558,\n",
       "           0.57658,     0.57758,     0.57858,     0.57958,     0.58058,     0.58158,     0.58258,     0.58358,     0.58458,     0.58559,     0.58659,     0.58759,     0.58859,     0.58959,     0.59059,     0.59159,     0.59259,     0.59359,     0.59459,      0.5956,      0.5966,      0.5976,      0.5986,      0.5996,\n",
       "            0.6006,      0.6016,      0.6026,      0.6036,      0.6046,     0.60561,     0.60661,     0.60761,     0.60861,     0.60961,     0.61061,     0.61161,     0.61261,     0.61361,     0.61461,     0.61562,     0.61662,     0.61762,     0.61862,     0.61962,     0.62062,     0.62162,     0.62262,     0.62362,\n",
       "           0.62462,     0.62563,     0.62663,     0.62763,     0.62863,     0.62963,     0.63063,     0.63163,     0.63263,     0.63363,     0.63463,     0.63564,     0.63664,     0.63764,     0.63864,     0.63964,     0.64064,     0.64164,     0.64264,     0.64364,     0.64464,     0.64565,     0.64665,     0.64765,\n",
       "           0.64865,     0.64965,     0.65065,     0.65165,     0.65265,     0.65365,     0.65465,     0.65566,     0.65666,     0.65766,     0.65866,     0.65966,     0.66066,     0.66166,     0.66266,     0.66366,     0.66466,     0.66567,     0.66667,     0.66767,     0.66867,     0.66967,     0.67067,     0.67167,\n",
       "           0.67267,     0.67367,     0.67467,     0.67568,     0.67668,     0.67768,     0.67868,     0.67968,     0.68068,     0.68168,     0.68268,     0.68368,     0.68468,     0.68569,     0.68669,     0.68769,     0.68869,     0.68969,     0.69069,     0.69169,     0.69269,     0.69369,     0.69469,      0.6957,\n",
       "            0.6967,      0.6977,      0.6987,      0.6997,      0.7007,      0.7017,      0.7027,      0.7037,      0.7047,     0.70571,     0.70671,     0.70771,     0.70871,     0.70971,     0.71071,     0.71171,     0.71271,     0.71371,     0.71471,     0.71572,     0.71672,     0.71772,     0.71872,     0.71972,\n",
       "           0.72072,     0.72172,     0.72272,     0.72372,     0.72472,     0.72573,     0.72673,     0.72773,     0.72873,     0.72973,     0.73073,     0.73173,     0.73273,     0.73373,     0.73473,     0.73574,     0.73674,     0.73774,     0.73874,     0.73974,     0.74074,     0.74174,     0.74274,     0.74374,\n",
       "           0.74474,     0.74575,     0.74675,     0.74775,     0.74875,     0.74975,     0.75075,     0.75175,     0.75275,     0.75375,     0.75475,     0.75576,     0.75676,     0.75776,     0.75876,     0.75976,     0.76076,     0.76176,     0.76276,     0.76376,     0.76476,     0.76577,     0.76677,     0.76777,\n",
       "           0.76877,     0.76977,     0.77077,     0.77177,     0.77277,     0.77377,     0.77477,     0.77578,     0.77678,     0.77778,     0.77878,     0.77978,     0.78078,     0.78178,     0.78278,     0.78378,     0.78478,     0.78579,     0.78679,     0.78779,     0.78879,     0.78979,     0.79079,     0.79179,\n",
       "           0.79279,     0.79379,     0.79479,      0.7958,      0.7968,      0.7978,      0.7988,      0.7998,      0.8008,      0.8018,      0.8028,      0.8038,      0.8048,     0.80581,     0.80681,     0.80781,     0.80881,     0.80981,     0.81081,     0.81181,     0.81281,     0.81381,     0.81481,     0.81582,\n",
       "           0.81682,     0.81782,     0.81882,     0.81982,     0.82082,     0.82182,     0.82282,     0.82382,     0.82482,     0.82583,     0.82683,     0.82783,     0.82883,     0.82983,     0.83083,     0.83183,     0.83283,     0.83383,     0.83483,     0.83584,     0.83684,     0.83784,     0.83884,     0.83984,\n",
       "           0.84084,     0.84184,     0.84284,     0.84384,     0.84484,     0.84585,     0.84685,     0.84785,     0.84885,     0.84985,     0.85085,     0.85185,     0.85285,     0.85385,     0.85485,     0.85586,     0.85686,     0.85786,     0.85886,     0.85986,     0.86086,     0.86186,     0.86286,     0.86386,\n",
       "           0.86486,     0.86587,     0.86687,     0.86787,     0.86887,     0.86987,     0.87087,     0.87187,     0.87287,     0.87387,     0.87487,     0.87588,     0.87688,     0.87788,     0.87888,     0.87988,     0.88088,     0.88188,     0.88288,     0.88388,     0.88488,     0.88589,     0.88689,     0.88789,\n",
       "           0.88889,     0.88989,     0.89089,     0.89189,     0.89289,     0.89389,     0.89489,      0.8959,      0.8969,      0.8979,      0.8989,      0.8999,      0.9009,      0.9019,      0.9029,      0.9039,      0.9049,     0.90591,     0.90691,     0.90791,     0.90891,     0.90991,     0.91091,     0.91191,\n",
       "           0.91291,     0.91391,     0.91491,     0.91592,     0.91692,     0.91792,     0.91892,     0.91992,     0.92092,     0.92192,     0.92292,     0.92392,     0.92492,     0.92593,     0.92693,     0.92793,     0.92893,     0.92993,     0.93093,     0.93193,     0.93293,     0.93393,     0.93493,     0.93594,\n",
       "           0.93694,     0.93794,     0.93894,     0.93994,     0.94094,     0.94194,     0.94294,     0.94394,     0.94494,     0.94595,     0.94695,     0.94795,     0.94895,     0.94995,     0.95095,     0.95195,     0.95295,     0.95395,     0.95495,     0.95596,     0.95696,     0.95796,     0.95896,     0.95996,\n",
       "           0.96096,     0.96196,     0.96296,     0.96396,     0.96496,     0.96597,     0.96697,     0.96797,     0.96897,     0.96997,     0.97097,     0.97197,     0.97297,     0.97397,     0.97497,     0.97598,     0.97698,     0.97798,     0.97898,     0.97998,     0.98098,     0.98198,     0.98298,     0.98398,\n",
       "           0.98498,     0.98599,     0.98699,     0.98799,     0.98899,     0.98999,     0.99099,     0.99199,     0.99299,     0.99399,     0.99499,       0.996,       0.997,       0.998,       0.999,           1]), array([[    0.48412,     0.48412,     0.60593,     0.67001,     0.71015,     0.73921,     0.76251,      0.7803,     0.79359,     0.80421,     0.81317,     0.82248,     0.82963,      0.8369,     0.84353,     0.84916,     0.85334,     0.85724,       0.862,     0.86626,     0.86914,     0.87191,     0.87415,\n",
       "            0.87682,     0.87927,     0.88161,     0.88442,     0.88641,     0.88893,     0.89139,     0.89287,     0.89552,     0.89757,     0.89917,     0.90023,     0.90153,     0.90349,     0.90469,     0.90712,     0.90869,     0.90966,     0.91096,     0.91204,     0.91285,     0.91404,      0.9153,\n",
       "             0.9158,     0.91616,     0.91693,     0.91749,     0.91818,     0.91842,     0.91931,     0.91907,     0.91987,     0.92065,     0.92196,     0.92274,     0.92419,      0.9248,     0.92509,     0.92503,      0.9254,     0.92596,     0.92691,     0.92745,     0.92882,     0.92897,     0.92961,\n",
       "            0.93063,     0.93066,     0.93111,     0.93153,     0.93171,     0.93198,     0.93235,     0.93254,     0.93289,     0.93297,     0.93304,     0.93345,     0.93335,     0.93331,     0.93412,     0.93526,     0.93594,     0.93637,     0.93654,     0.93744,     0.93761,     0.93806,     0.93815,\n",
       "            0.93823,     0.93804,     0.93812,     0.93834,     0.93857,     0.93908,     0.93916,     0.93924,     0.93971,     0.93996,     0.94059,     0.94138,     0.94231,     0.94266,     0.94294,      0.9429,     0.94287,     0.94285,     0.94319,     0.94344,      0.9435,     0.94356,     0.94352,\n",
       "            0.94343,      0.9435,     0.94358,     0.94382,     0.94399,     0.94425,     0.94441,     0.94433,     0.94425,     0.94452,     0.94486,     0.94493,     0.94499,     0.94501,     0.94507,     0.94538,     0.94547,     0.94558,     0.94569,     0.94579,     0.94612,     0.94649,     0.94661,\n",
       "            0.94673,     0.94688,     0.94708,     0.94692,     0.94709,     0.94724,     0.94774,      0.9478,     0.94786,     0.94791,       0.948,     0.94824,     0.94835,      0.9487,     0.94883,     0.94891,     0.94898,     0.94908,     0.94913,     0.94926,     0.94932,     0.94938,     0.94944,\n",
       "            0.94951,     0.94989,     0.95003,     0.94987,     0.95002,     0.95004,     0.95043,     0.95058,     0.95074,     0.95115,     0.95113,     0.95117,     0.95131,     0.95139,     0.95146,     0.95153,     0.95158,     0.95163,     0.95169,     0.95197,     0.95205,     0.95213,     0.95233,\n",
       "             0.9522,     0.95214,     0.95219,     0.95224,      0.9523,     0.95258,     0.95271,     0.95296,     0.95324,     0.95336,     0.95345,     0.95349,     0.95353,     0.95358,     0.95362,     0.95373,     0.95395,     0.95415,     0.95427,     0.95435,     0.95442,     0.95449,     0.95462,\n",
       "            0.95475,     0.95479,     0.95483,     0.95487,     0.95492,     0.95492,     0.95474,     0.95478,     0.95486,     0.95494,     0.95501,     0.95507,     0.95514,       0.955,      0.9551,     0.95528,     0.95544,     0.95558,     0.95562,     0.95567,     0.95571,     0.95576,     0.95581,\n",
       "            0.95589,     0.95598,     0.95579,     0.95576,     0.95582,     0.95588,     0.95594,     0.95607,     0.95621,     0.95629,     0.95636,     0.95643,     0.95649,     0.95655,     0.95661,     0.95667,     0.95673,     0.95679,     0.95735,     0.95749,     0.95746,     0.95744,     0.95741,\n",
       "            0.95739,     0.95736,     0.95734,     0.95731,     0.95729,     0.95726,     0.95731,     0.95735,      0.9574,     0.95745,     0.95753,     0.95768,     0.95751,     0.95757,     0.95763,     0.95773,     0.95792,     0.95803,     0.95812,     0.95816,     0.95819,     0.95823,     0.95826,\n",
       "             0.9583,     0.95833,     0.95837,      0.9584,     0.95844,     0.95848,     0.95851,     0.95855,     0.95851,     0.95841,     0.95833,      0.9584,     0.95847,     0.95854,     0.95876,      0.9586,     0.95845,     0.95875,     0.95877,     0.95879,     0.95881,     0.95883,     0.95886,\n",
       "            0.95888,      0.9589,     0.95892,     0.95894,     0.95901,     0.95907,     0.95914,     0.95925,     0.95938,     0.95914,     0.95907,       0.959,     0.95893,      0.9588,     0.95867,     0.95863,      0.9586,     0.95856,     0.95853,     0.95849,     0.95846,     0.95845,     0.95851,\n",
       "            0.95858,     0.95864,     0.95871,     0.95877,     0.95884,     0.95891,       0.959,     0.95909,     0.95927,     0.95955,     0.95958,     0.95962,     0.95966,     0.95969,     0.95973,     0.95977,      0.9598,     0.95984,     0.95988,     0.95991,     0.95995,        0.96,      0.9602,\n",
       "            0.96016,     0.96012,     0.96008,     0.96004,        0.96,     0.95996,     0.95999,     0.96002,     0.96005,     0.96007,      0.9601,     0.96013,     0.96016,     0.96018,     0.96026,     0.96035,     0.96034,     0.96017,     0.96019,      0.9602,     0.96022,     0.96023,     0.96025,\n",
       "            0.96026,     0.96028,     0.96029,     0.96031,     0.96032,     0.96034,     0.96035,     0.96037,     0.96038,     0.96017,     0.96011,     0.96008,     0.96004,        0.96,     0.95997,     0.95993,     0.95992,     0.95995,     0.95998,     0.96001,     0.96004,     0.96007,      0.9601,\n",
       "            0.96013,     0.96016,      0.9602,     0.96023,     0.96027,      0.9603,     0.96033,     0.96033,     0.96028,     0.96023,     0.96017,     0.96012,     0.96027,     0.96018,      0.9601,      0.9603,     0.96043,     0.96059,      0.9607,     0.96051,     0.96047,     0.96044,      0.9604,\n",
       "            0.96036,     0.96033,     0.96029,      0.9602,     0.96007,     0.95953,     0.95951,     0.95948,     0.95945,     0.95942,     0.95939,     0.95936,     0.95933,     0.95932,     0.95938,     0.95944,     0.95949,     0.95952,     0.95946,     0.95939,     0.95933,     0.95932,     0.95938,\n",
       "            0.95944,      0.9595,     0.95956,     0.95961,     0.95967,     0.95973,      0.9598,     0.95988,     0.95995,     0.95993,     0.95988,     0.95984,      0.9598,     0.95976,     0.95948,     0.95954,      0.9596,     0.95966,     0.95966,     0.95953,     0.95956,     0.95973,     0.95985,\n",
       "            0.95994,     0.95999,     0.96005,     0.96011,     0.96011,     0.96008,     0.96005,     0.96002,     0.95999,     0.95996,     0.95993,     0.95989,     0.95991,     0.95994,     0.95997,        0.96,     0.96003,     0.96005,     0.96008,     0.96011,     0.96005,     0.95999,     0.95993,\n",
       "            0.95989,     0.96009,     0.96002,     0.95996,      0.9599,      0.9598,     0.95963,     0.95975,     0.95986,     0.95998,     0.96004,     0.95997,     0.95991,     0.95985,     0.95985,     0.95992,        0.96,     0.96009,     0.96021,      0.9603,     0.96038,     0.96046,     0.96045,\n",
       "            0.96039,     0.96032,     0.96026,     0.96023,      0.9602,     0.96018,     0.96016,     0.96014,     0.96011,     0.96009,     0.96007,     0.96005,     0.96002,        0.96,     0.95998,     0.95995,     0.95993,      0.9599,     0.95988,     0.95985,     0.95983,      0.9598,     0.95978,\n",
       "            0.95953,     0.95961,     0.95968,     0.95973,     0.95968,     0.95964,      0.9596,     0.95956,     0.95952,     0.96005,     0.96011,     0.95998,     0.95955,     0.95941,     0.95936,     0.95931,     0.95926,     0.95921,     0.95911,     0.95898,     0.95852,     0.95844,      0.9584,\n",
       "            0.95837,     0.95834,      0.9583,     0.95827,     0.95824,      0.9582,     0.95818,     0.95815,     0.95812,     0.95809,     0.95806,     0.95804,     0.95801,     0.95798,     0.95823,     0.95829,     0.95835,     0.95841,     0.95846,     0.95845,      0.9585,     0.95856,     0.95862,\n",
       "            0.95852,     0.95839,     0.95815,     0.95825,     0.95836,     0.95811,     0.95787,      0.9577,     0.95761,     0.95758,     0.95756,     0.95753,      0.9575,     0.95747,     0.95744,     0.95742,     0.95739,     0.95718,      0.9571,     0.95705,     0.95701,     0.95696,     0.95692,\n",
       "            0.95678,     0.95628,     0.95611,     0.95603,     0.95594,     0.95583,     0.95571,     0.95572,     0.95581,     0.95593,     0.95606,     0.95556,     0.95515,     0.95522,      0.9553,     0.95532,     0.95524,     0.95515,     0.95465,     0.95425,     0.95412,     0.95381,     0.95374,\n",
       "            0.95368,      0.9536,     0.95335,     0.95282,     0.95247,     0.95222,     0.95205,     0.95192,     0.95145,     0.95131,     0.95121,      0.9511,     0.95097,      0.9508,     0.95083,     0.95073,     0.95062,     0.95038,     0.95012,     0.94998,     0.95009,     0.95002,     0.94995,\n",
       "            0.94987,     0.94969,     0.94926,     0.94913,     0.94898,     0.94879,     0.94853,     0.94816,     0.94799,     0.94781,     0.94777,     0.94773,      0.9477,     0.94766,     0.94762,     0.94759,      0.9475,     0.94738,     0.94677,     0.94674,     0.94623,     0.94572,     0.94523,\n",
       "            0.94505,     0.94491,     0.94478,     0.94361,     0.94317,     0.94304,     0.94253,     0.94223,     0.94179,      0.9419,     0.94175,     0.94077,     0.94051,     0.93962,     0.93907,     0.93894,      0.9383,     0.93812,     0.93789,     0.93737,     0.93666,     0.93595,     0.93562,\n",
       "            0.93452,     0.93426,     0.93296,     0.93127,     0.93101,     0.92934,     0.92878,     0.92773,     0.92652,     0.92625,     0.92498,     0.92427,     0.92319,     0.92183,      0.9217,     0.92036,     0.91972,     0.91954,     0.91797,     0.91743,     0.91643,     0.91515,     0.91479,\n",
       "            0.91313,     0.91258,     0.91056,     0.90828,     0.90798,     0.90607,     0.90484,     0.90429,     0.90278,     0.90111,     0.90073,     0.89934,     0.89743,      0.8971,     0.89561,     0.89383,     0.89369,     0.89214,     0.89195,     0.89092,     0.88976,     0.88943,     0.88718,\n",
       "            0.88537,     0.88518,      0.8832,     0.87992,     0.87777,     0.87758,     0.87597,     0.87583,     0.87343,     0.87165,     0.87125,     0.86848,     0.86724,     0.86686,     0.86407,     0.86281,     0.86185,     0.85726,     0.85506,     0.85323,     0.84964,      0.8478,     0.84522,\n",
       "            0.84355,     0.83957,     0.83757,      0.8334,     0.83119,     0.82966,     0.82733,     0.82681,     0.82318,     0.82058,     0.81619,     0.81482,      0.8125,     0.80782,     0.80446,     0.79857,     0.79513,     0.79277,     0.78945,     0.78742,     0.78136,      0.7742,      0.7699,\n",
       "            0.76102,      0.7556,      0.7497,     0.74527,     0.73599,     0.73075,     0.72346,     0.71813,     0.70575,     0.70182,      0.6891,      0.6843,     0.67322,     0.66549,     0.65407,       0.643,     0.64027,     0.63048,     0.62165,      0.6125,      0.6085,     0.59691,     0.59312,\n",
       "             0.5842,     0.57413,     0.57032,     0.55808,     0.55414,     0.54946,     0.54284,     0.53928,     0.52766,     0.52468,     0.52149,     0.51747,      0.5081,     0.50225,     0.49864,     0.48984,      0.4872,     0.48195,     0.47612,     0.47484,     0.47342,     0.47073,     0.46761,\n",
       "            0.46587,     0.46262,     0.46193,     0.45987,     0.45812,     0.45703,     0.45545,     0.45434,     0.45291,     0.45235,     0.45187,      0.4515,     0.44984,     0.44871,     0.44765,     0.44737,     0.44588,     0.44523,     0.44473,     0.44315,     0.44259,     0.44189,      0.4402,\n",
       "             0.4395,     0.43853,     0.43789,     0.43595,     0.43566,     0.43503,      0.4322,     0.43105,      0.4299,     0.42876,     0.42819,     0.42762,     0.42724,     0.42561,      0.4207,     0.41896,     0.41608,     0.41032,     0.40465,     0.40216,      0.3998,     0.39097,     0.38621,\n",
       "            0.38142,     0.37179,     0.36326,      0.3534,     0.34468,     0.33397,     0.32632,     0.31988,     0.31339,     0.30293,     0.28767,     0.27756,     0.25908,     0.24723,     0.22539,     0.21799,     0.20979,     0.19148,     0.18246,     0.16878,     0.16338,     0.14628,       0.136,\n",
       "               0.12,     0.11187,     0.10695,    0.092097,    0.086272,    0.083685,    0.078693,    0.076885,    0.072621,    0.070037,    0.068039,      0.0657,    0.063097,    0.057366,    0.056778,    0.054384,    0.051336,    0.050893,    0.049933,    0.047654,    0.045154,    0.044559,    0.042365,\n",
       "           0.036652,     0.03571,    0.031053,    0.029536,    0.028666,     0.02806,    0.027554,      0.0271,    0.026539,    0.025638,    0.024504,    0.022882,    0.022033,    0.021507,    0.021141,    0.020776,    0.018196,     0.01721,    0.016582,    0.014923,    0.014238,    0.013778,    0.013368,\n",
       "              0.013,    0.011664,    0.010808,    0.010345,   0.0096142,   0.0079648,   0.0071503,   0.0066866,   0.0060873,   0.0042517,   0.0035588,   0.0033262,   0.0030934,   0.0028606,   0.0025938,   0.0022832,   0.0019725,   0.0016845,   0.0014181,   0.0011515,           0,           0,           0,\n",
       "                  0,           0,           0,           0,           0,           0,           0,           0,           0,           0,           0,           0,           0,           0,           0,           0,           0,           0,           0,           0,           0,           0,           0,\n",
       "                  0,           0,           0,           0,           0,           0,           0,           0,           0,           0,           0]]), 'Confidence', 'F1'], [array([          0,    0.001001,    0.002002,    0.003003,    0.004004,    0.005005,    0.006006,    0.007007,    0.008008,    0.009009,     0.01001,    0.011011,    0.012012,    0.013013,    0.014014,    0.015015,    0.016016,    0.017017,    0.018018,    0.019019,     0.02002,    0.021021,    0.022022,    0.023023,\n",
       "          0.024024,    0.025025,    0.026026,    0.027027,    0.028028,    0.029029,     0.03003,    0.031031,    0.032032,    0.033033,    0.034034,    0.035035,    0.036036,    0.037037,    0.038038,    0.039039,     0.04004,    0.041041,    0.042042,    0.043043,    0.044044,    0.045045,    0.046046,    0.047047,\n",
       "          0.048048,    0.049049,     0.05005,    0.051051,    0.052052,    0.053053,    0.054054,    0.055055,    0.056056,    0.057057,    0.058058,    0.059059,     0.06006,    0.061061,    0.062062,    0.063063,    0.064064,    0.065065,    0.066066,    0.067067,    0.068068,    0.069069,     0.07007,    0.071071,\n",
       "          0.072072,    0.073073,    0.074074,    0.075075,    0.076076,    0.077077,    0.078078,    0.079079,     0.08008,    0.081081,    0.082082,    0.083083,    0.084084,    0.085085,    0.086086,    0.087087,    0.088088,    0.089089,     0.09009,    0.091091,    0.092092,    0.093093,    0.094094,    0.095095,\n",
       "          0.096096,    0.097097,    0.098098,    0.099099,      0.1001,      0.1011,      0.1021,      0.1031,      0.1041,     0.10511,     0.10611,     0.10711,     0.10811,     0.10911,     0.11011,     0.11111,     0.11211,     0.11311,     0.11411,     0.11512,     0.11612,     0.11712,     0.11812,     0.11912,\n",
       "           0.12012,     0.12112,     0.12212,     0.12312,     0.12412,     0.12513,     0.12613,     0.12713,     0.12813,     0.12913,     0.13013,     0.13113,     0.13213,     0.13313,     0.13413,     0.13514,     0.13614,     0.13714,     0.13814,     0.13914,     0.14014,     0.14114,     0.14214,     0.14314,\n",
       "           0.14414,     0.14515,     0.14615,     0.14715,     0.14815,     0.14915,     0.15015,     0.15115,     0.15215,     0.15315,     0.15415,     0.15516,     0.15616,     0.15716,     0.15816,     0.15916,     0.16016,     0.16116,     0.16216,     0.16316,     0.16416,     0.16517,     0.16617,     0.16717,\n",
       "           0.16817,     0.16917,     0.17017,     0.17117,     0.17217,     0.17317,     0.17417,     0.17518,     0.17618,     0.17718,     0.17818,     0.17918,     0.18018,     0.18118,     0.18218,     0.18318,     0.18418,     0.18519,     0.18619,     0.18719,     0.18819,     0.18919,     0.19019,     0.19119,\n",
       "           0.19219,     0.19319,     0.19419,      0.1952,      0.1962,      0.1972,      0.1982,      0.1992,      0.2002,      0.2012,      0.2022,      0.2032,      0.2042,     0.20521,     0.20621,     0.20721,     0.20821,     0.20921,     0.21021,     0.21121,     0.21221,     0.21321,     0.21421,     0.21522,\n",
       "           0.21622,     0.21722,     0.21822,     0.21922,     0.22022,     0.22122,     0.22222,     0.22322,     0.22422,     0.22523,     0.22623,     0.22723,     0.22823,     0.22923,     0.23023,     0.23123,     0.23223,     0.23323,     0.23423,     0.23524,     0.23624,     0.23724,     0.23824,     0.23924,\n",
       "           0.24024,     0.24124,     0.24224,     0.24324,     0.24424,     0.24525,     0.24625,     0.24725,     0.24825,     0.24925,     0.25025,     0.25125,     0.25225,     0.25325,     0.25425,     0.25526,     0.25626,     0.25726,     0.25826,     0.25926,     0.26026,     0.26126,     0.26226,     0.26326,\n",
       "           0.26426,     0.26527,     0.26627,     0.26727,     0.26827,     0.26927,     0.27027,     0.27127,     0.27227,     0.27327,     0.27427,     0.27528,     0.27628,     0.27728,     0.27828,     0.27928,     0.28028,     0.28128,     0.28228,     0.28328,     0.28428,     0.28529,     0.28629,     0.28729,\n",
       "           0.28829,     0.28929,     0.29029,     0.29129,     0.29229,     0.29329,     0.29429,      0.2953,      0.2963,      0.2973,      0.2983,      0.2993,      0.3003,      0.3013,      0.3023,      0.3033,      0.3043,     0.30531,     0.30631,     0.30731,     0.30831,     0.30931,     0.31031,     0.31131,\n",
       "           0.31231,     0.31331,     0.31431,     0.31532,     0.31632,     0.31732,     0.31832,     0.31932,     0.32032,     0.32132,     0.32232,     0.32332,     0.32432,     0.32533,     0.32633,     0.32733,     0.32833,     0.32933,     0.33033,     0.33133,     0.33233,     0.33333,     0.33433,     0.33534,\n",
       "           0.33634,     0.33734,     0.33834,     0.33934,     0.34034,     0.34134,     0.34234,     0.34334,     0.34434,     0.34535,     0.34635,     0.34735,     0.34835,     0.34935,     0.35035,     0.35135,     0.35235,     0.35335,     0.35435,     0.35536,     0.35636,     0.35736,     0.35836,     0.35936,\n",
       "           0.36036,     0.36136,     0.36236,     0.36336,     0.36436,     0.36537,     0.36637,     0.36737,     0.36837,     0.36937,     0.37037,     0.37137,     0.37237,     0.37337,     0.37437,     0.37538,     0.37638,     0.37738,     0.37838,     0.37938,     0.38038,     0.38138,     0.38238,     0.38338,\n",
       "           0.38438,     0.38539,     0.38639,     0.38739,     0.38839,     0.38939,     0.39039,     0.39139,     0.39239,     0.39339,     0.39439,      0.3954,      0.3964,      0.3974,      0.3984,      0.3994,      0.4004,      0.4014,      0.4024,      0.4034,      0.4044,     0.40541,     0.40641,     0.40741,\n",
       "           0.40841,     0.40941,     0.41041,     0.41141,     0.41241,     0.41341,     0.41441,     0.41542,     0.41642,     0.41742,     0.41842,     0.41942,     0.42042,     0.42142,     0.42242,     0.42342,     0.42442,     0.42543,     0.42643,     0.42743,     0.42843,     0.42943,     0.43043,     0.43143,\n",
       "           0.43243,     0.43343,     0.43443,     0.43544,     0.43644,     0.43744,     0.43844,     0.43944,     0.44044,     0.44144,     0.44244,     0.44344,     0.44444,     0.44545,     0.44645,     0.44745,     0.44845,     0.44945,     0.45045,     0.45145,     0.45245,     0.45345,     0.45445,     0.45546,\n",
       "           0.45646,     0.45746,     0.45846,     0.45946,     0.46046,     0.46146,     0.46246,     0.46346,     0.46446,     0.46547,     0.46647,     0.46747,     0.46847,     0.46947,     0.47047,     0.47147,     0.47247,     0.47347,     0.47447,     0.47548,     0.47648,     0.47748,     0.47848,     0.47948,\n",
       "           0.48048,     0.48148,     0.48248,     0.48348,     0.48448,     0.48549,     0.48649,     0.48749,     0.48849,     0.48949,     0.49049,     0.49149,     0.49249,     0.49349,     0.49449,      0.4955,      0.4965,      0.4975,      0.4985,      0.4995,      0.5005,      0.5015,      0.5025,      0.5035,\n",
       "            0.5045,     0.50551,     0.50651,     0.50751,     0.50851,     0.50951,     0.51051,     0.51151,     0.51251,     0.51351,     0.51451,     0.51552,     0.51652,     0.51752,     0.51852,     0.51952,     0.52052,     0.52152,     0.52252,     0.52352,     0.52452,     0.52553,     0.52653,     0.52753,\n",
       "           0.52853,     0.52953,     0.53053,     0.53153,     0.53253,     0.53353,     0.53453,     0.53554,     0.53654,     0.53754,     0.53854,     0.53954,     0.54054,     0.54154,     0.54254,     0.54354,     0.54454,     0.54555,     0.54655,     0.54755,     0.54855,     0.54955,     0.55055,     0.55155,\n",
       "           0.55255,     0.55355,     0.55455,     0.55556,     0.55656,     0.55756,     0.55856,     0.55956,     0.56056,     0.56156,     0.56256,     0.56356,     0.56456,     0.56557,     0.56657,     0.56757,     0.56857,     0.56957,     0.57057,     0.57157,     0.57257,     0.57357,     0.57457,     0.57558,\n",
       "           0.57658,     0.57758,     0.57858,     0.57958,     0.58058,     0.58158,     0.58258,     0.58358,     0.58458,     0.58559,     0.58659,     0.58759,     0.58859,     0.58959,     0.59059,     0.59159,     0.59259,     0.59359,     0.59459,      0.5956,      0.5966,      0.5976,      0.5986,      0.5996,\n",
       "            0.6006,      0.6016,      0.6026,      0.6036,      0.6046,     0.60561,     0.60661,     0.60761,     0.60861,     0.60961,     0.61061,     0.61161,     0.61261,     0.61361,     0.61461,     0.61562,     0.61662,     0.61762,     0.61862,     0.61962,     0.62062,     0.62162,     0.62262,     0.62362,\n",
       "           0.62462,     0.62563,     0.62663,     0.62763,     0.62863,     0.62963,     0.63063,     0.63163,     0.63263,     0.63363,     0.63463,     0.63564,     0.63664,     0.63764,     0.63864,     0.63964,     0.64064,     0.64164,     0.64264,     0.64364,     0.64464,     0.64565,     0.64665,     0.64765,\n",
       "           0.64865,     0.64965,     0.65065,     0.65165,     0.65265,     0.65365,     0.65465,     0.65566,     0.65666,     0.65766,     0.65866,     0.65966,     0.66066,     0.66166,     0.66266,     0.66366,     0.66466,     0.66567,     0.66667,     0.66767,     0.66867,     0.66967,     0.67067,     0.67167,\n",
       "           0.67267,     0.67367,     0.67467,     0.67568,     0.67668,     0.67768,     0.67868,     0.67968,     0.68068,     0.68168,     0.68268,     0.68368,     0.68468,     0.68569,     0.68669,     0.68769,     0.68869,     0.68969,     0.69069,     0.69169,     0.69269,     0.69369,     0.69469,      0.6957,\n",
       "            0.6967,      0.6977,      0.6987,      0.6997,      0.7007,      0.7017,      0.7027,      0.7037,      0.7047,     0.70571,     0.70671,     0.70771,     0.70871,     0.70971,     0.71071,     0.71171,     0.71271,     0.71371,     0.71471,     0.71572,     0.71672,     0.71772,     0.71872,     0.71972,\n",
       "           0.72072,     0.72172,     0.72272,     0.72372,     0.72472,     0.72573,     0.72673,     0.72773,     0.72873,     0.72973,     0.73073,     0.73173,     0.73273,     0.73373,     0.73473,     0.73574,     0.73674,     0.73774,     0.73874,     0.73974,     0.74074,     0.74174,     0.74274,     0.74374,\n",
       "           0.74474,     0.74575,     0.74675,     0.74775,     0.74875,     0.74975,     0.75075,     0.75175,     0.75275,     0.75375,     0.75475,     0.75576,     0.75676,     0.75776,     0.75876,     0.75976,     0.76076,     0.76176,     0.76276,     0.76376,     0.76476,     0.76577,     0.76677,     0.76777,\n",
       "           0.76877,     0.76977,     0.77077,     0.77177,     0.77277,     0.77377,     0.77477,     0.77578,     0.77678,     0.77778,     0.77878,     0.77978,     0.78078,     0.78178,     0.78278,     0.78378,     0.78478,     0.78579,     0.78679,     0.78779,     0.78879,     0.78979,     0.79079,     0.79179,\n",
       "           0.79279,     0.79379,     0.79479,      0.7958,      0.7968,      0.7978,      0.7988,      0.7998,      0.8008,      0.8018,      0.8028,      0.8038,      0.8048,     0.80581,     0.80681,     0.80781,     0.80881,     0.80981,     0.81081,     0.81181,     0.81281,     0.81381,     0.81481,     0.81582,\n",
       "           0.81682,     0.81782,     0.81882,     0.81982,     0.82082,     0.82182,     0.82282,     0.82382,     0.82482,     0.82583,     0.82683,     0.82783,     0.82883,     0.82983,     0.83083,     0.83183,     0.83283,     0.83383,     0.83483,     0.83584,     0.83684,     0.83784,     0.83884,     0.83984,\n",
       "           0.84084,     0.84184,     0.84284,     0.84384,     0.84484,     0.84585,     0.84685,     0.84785,     0.84885,     0.84985,     0.85085,     0.85185,     0.85285,     0.85385,     0.85485,     0.85586,     0.85686,     0.85786,     0.85886,     0.85986,     0.86086,     0.86186,     0.86286,     0.86386,\n",
       "           0.86486,     0.86587,     0.86687,     0.86787,     0.86887,     0.86987,     0.87087,     0.87187,     0.87287,     0.87387,     0.87487,     0.87588,     0.87688,     0.87788,     0.87888,     0.87988,     0.88088,     0.88188,     0.88288,     0.88388,     0.88488,     0.88589,     0.88689,     0.88789,\n",
       "           0.88889,     0.88989,     0.89089,     0.89189,     0.89289,     0.89389,     0.89489,      0.8959,      0.8969,      0.8979,      0.8989,      0.8999,      0.9009,      0.9019,      0.9029,      0.9039,      0.9049,     0.90591,     0.90691,     0.90791,     0.90891,     0.90991,     0.91091,     0.91191,\n",
       "           0.91291,     0.91391,     0.91491,     0.91592,     0.91692,     0.91792,     0.91892,     0.91992,     0.92092,     0.92192,     0.92292,     0.92392,     0.92492,     0.92593,     0.92693,     0.92793,     0.92893,     0.92993,     0.93093,     0.93193,     0.93293,     0.93393,     0.93493,     0.93594,\n",
       "           0.93694,     0.93794,     0.93894,     0.93994,     0.94094,     0.94194,     0.94294,     0.94394,     0.94494,     0.94595,     0.94695,     0.94795,     0.94895,     0.94995,     0.95095,     0.95195,     0.95295,     0.95395,     0.95495,     0.95596,     0.95696,     0.95796,     0.95896,     0.95996,\n",
       "           0.96096,     0.96196,     0.96296,     0.96396,     0.96496,     0.96597,     0.96697,     0.96797,     0.96897,     0.96997,     0.97097,     0.97197,     0.97297,     0.97397,     0.97497,     0.97598,     0.97698,     0.97798,     0.97898,     0.97998,     0.98098,     0.98198,     0.98298,     0.98398,\n",
       "           0.98498,     0.98599,     0.98699,     0.98799,     0.98899,     0.98999,     0.99099,     0.99199,     0.99299,     0.99399,     0.99499,       0.996,       0.997,       0.998,       0.999,           1]), array([[    0.32231,     0.32231,     0.44031,     0.51151,     0.56028,     0.59751,     0.62856,     0.65332,     0.67216,     0.68777,     0.70122,     0.71543,     0.72633,      0.7378,     0.74844,     0.75737,     0.76404,     0.77031,     0.77804,       0.785,     0.78974,     0.79437,     0.79868,\n",
       "            0.80315,     0.80727,     0.81121,     0.81631,     0.81972,     0.82403,     0.82827,     0.83084,     0.83549,     0.83935,     0.84216,     0.84402,      0.8463,     0.84976,      0.8519,     0.85622,     0.85937,     0.86112,     0.86345,     0.86539,     0.86721,     0.86937,     0.87164,\n",
       "            0.87293,     0.87396,     0.87536,     0.87713,      0.8784,     0.87884,     0.88066,     0.88079,     0.88226,     0.88409,      0.8865,     0.88794,     0.89064,     0.89177,     0.89231,     0.89244,     0.89329,     0.89432,      0.8961,     0.89712,     0.89968,     0.89997,     0.90156,\n",
       "            0.90349,     0.90395,     0.90479,      0.9056,     0.90593,     0.90644,     0.90714,     0.90751,     0.90817,     0.90831,     0.90845,     0.90922,     0.90927,     0.90937,     0.91092,     0.91309,     0.91439,     0.91521,     0.91552,     0.91724,     0.91757,     0.91843,     0.91861,\n",
       "            0.91878,     0.91875,     0.91897,      0.9194,     0.91984,     0.92082,     0.92097,     0.92112,     0.92202,     0.92275,     0.92415,     0.92567,     0.92747,     0.92815,     0.92869,     0.92884,     0.92899,     0.92938,     0.93003,     0.93051,     0.93063,     0.93075,     0.93084,\n",
       "            0.93093,     0.93108,     0.93122,     0.93169,     0.93203,     0.93254,     0.93289,     0.93288,     0.93287,      0.9335,     0.93416,     0.93429,     0.93441,     0.93452,       0.935,     0.93561,     0.93622,     0.93645,     0.93666,     0.93685,      0.9375,     0.93823,     0.93846,\n",
       "             0.9387,     0.93899,     0.93939,     0.93946,     0.93985,     0.94015,     0.94113,     0.94126,     0.94136,     0.94147,     0.94164,     0.94212,     0.94234,     0.94303,     0.94329,     0.94343,     0.94357,     0.94378,     0.94411,     0.94458,      0.9447,     0.94482,     0.94493,\n",
       "            0.94536,     0.94628,     0.94655,     0.94669,     0.94703,     0.94747,     0.94825,     0.94855,     0.94887,     0.94969,     0.95011,     0.95062,     0.95091,     0.95106,     0.95122,     0.95134,     0.95145,     0.95156,     0.95167,     0.95224,     0.95239,     0.95255,     0.95301,\n",
       "              0.953,     0.95303,     0.95313,     0.95324,     0.95334,     0.95392,     0.95417,     0.95467,     0.95524,     0.95548,     0.95565,     0.95573,     0.95582,     0.95591,       0.956,     0.95621,     0.95666,     0.95707,     0.95731,     0.95747,     0.95761,     0.95775,     0.95801,\n",
       "            0.95826,     0.95835,     0.95844,     0.95852,     0.95861,     0.95868,     0.95866,      0.9588,     0.95896,     0.95912,     0.95925,     0.95939,     0.95952,     0.95953,      0.9599,     0.96026,     0.96059,     0.96087,     0.96096,     0.96105,     0.96114,     0.96123,     0.96135,\n",
       "            0.96151,     0.96168,     0.96172,     0.96217,     0.96229,     0.96242,     0.96254,     0.96281,     0.96308,     0.96324,      0.9634,     0.96354,     0.96366,     0.96378,     0.96391,     0.96403,     0.96415,     0.96427,     0.96541,     0.96571,     0.96571,      0.9657,      0.9657,\n",
       "             0.9657,      0.9657,      0.9657,      0.9657,     0.96569,     0.96569,     0.96579,     0.96588,     0.96598,     0.96608,     0.96624,     0.96655,     0.96668,      0.9668,     0.96692,     0.96712,     0.96752,     0.96772,     0.96792,       0.968,     0.96807,     0.96814,     0.96821,\n",
       "            0.96828,     0.96835,     0.96842,      0.9685,     0.96857,     0.96864,     0.96872,     0.96879,     0.96882,     0.96881,     0.96883,     0.96897,     0.96911,     0.96926,     0.96971,      0.9697,     0.97002,     0.97063,     0.97067,     0.97072,     0.97076,     0.97081,     0.97085,\n",
       "             0.9709,     0.97094,     0.97099,     0.97103,     0.97116,      0.9713,     0.97144,     0.97167,     0.97193,     0.97194,     0.97193,     0.97193,     0.97192,     0.97192,     0.97191,     0.97191,     0.97191,      0.9719,      0.9719,      0.9719,      0.9719,     0.97193,     0.97206,\n",
       "             0.9722,     0.97233,     0.97246,      0.9726,     0.97273,     0.97289,     0.97307,     0.97326,     0.97363,      0.9742,     0.97427,     0.97435,     0.97442,      0.9745,     0.97457,     0.97465,     0.97472,      0.9748,     0.97487,     0.97495,     0.97502,     0.97513,     0.97555,\n",
       "            0.97555,     0.97555,     0.97555,     0.97554,     0.97554,     0.97554,      0.9756,     0.97566,     0.97571,     0.97577,     0.97583,     0.97588,     0.97594,       0.976,     0.97616,     0.97634,     0.97646,     0.97646,     0.97649,     0.97652,     0.97655,     0.97658,     0.97662,\n",
       "            0.97665,     0.97668,     0.97671,     0.97674,     0.97677,      0.9768,     0.97684,     0.97687,      0.9769,      0.9769,      0.9769,     0.97689,     0.97689,     0.97689,     0.97689,     0.97689,     0.97691,     0.97697,     0.97703,      0.9771,     0.97716,     0.97722,     0.97729,\n",
       "            0.97735,     0.97742,     0.97749,     0.97756,     0.97763,      0.9777,     0.97777,     0.97781,     0.97781,      0.9778,      0.9778,      0.9778,     0.97826,     0.97825,     0.97825,     0.97867,     0.97896,     0.97927,     0.97964,     0.97963,     0.97963,     0.97963,     0.97963,\n",
       "            0.97962,     0.97962,     0.97962,     0.97962,     0.97961,     0.97959,     0.97959,     0.97959,     0.97959,     0.97959,     0.97959,     0.97958,     0.97958,      0.9796,     0.97972,     0.97984,     0.97996,     0.98005,     0.98004,     0.98004,     0.98004,     0.98009,     0.98021,\n",
       "            0.98034,     0.98047,     0.98059,     0.98071,     0.98083,     0.98095,      0.9811,     0.98126,     0.98142,     0.98144,     0.98143,     0.98143,     0.98143,     0.98143,     0.98142,     0.98155,     0.98168,     0.98181,     0.98189,     0.98188,     0.98208,     0.98246,      0.9827,\n",
       "            0.98288,       0.983,     0.98312,     0.98324,     0.98328,     0.98328,     0.98328,     0.98328,     0.98328,     0.98328,     0.98328,     0.98328,     0.98333,     0.98339,     0.98345,     0.98351,     0.98357,     0.98363,     0.98369,     0.98375,     0.98375,     0.98374,     0.98374,\n",
       "            0.98378,     0.98421,     0.98421,     0.98421,      0.9842,      0.9842,     0.98425,     0.98449,     0.98473,     0.98498,     0.98514,     0.98514,     0.98513,     0.98513,      0.9852,     0.98536,     0.98552,     0.98573,     0.98597,     0.98617,     0.98633,     0.98649,     0.98655,\n",
       "            0.98655,     0.98655,     0.98655,     0.98654,     0.98654,     0.98654,     0.98654,     0.98654,     0.98654,     0.98654,     0.98654,     0.98654,     0.98654,     0.98654,     0.98654,     0.98654,     0.98654,     0.98654,     0.98654,     0.98653,     0.98653,     0.98653,     0.98653,\n",
       "            0.98656,     0.98673,     0.98689,       0.987,       0.987,       0.987,       0.987,       0.987,     0.98699,     0.98817,     0.98842,     0.98842,     0.98841,     0.98841,      0.9884,      0.9884,      0.9884,      0.9884,      0.9884,      0.9884,     0.98838,     0.98838,     0.98838,\n",
       "            0.98838,     0.98838,     0.98838,     0.98838,     0.98838,     0.98838,     0.98838,     0.98838,     0.98838,     0.98837,     0.98837,     0.98837,     0.98837,     0.98837,     0.98893,     0.98905,     0.98918,      0.9893,     0.98981,      0.9899,     0.99002,     0.99015,     0.99027,\n",
       "            0.99028,     0.99028,     0.99028,     0.99051,     0.99076,     0.99075,     0.99075,     0.99075,     0.99074,     0.99074,     0.99074,     0.99074,     0.99074,     0.99074,     0.99074,     0.99074,     0.99074,     0.99074,     0.99074,     0.99073,     0.99073,     0.99073,     0.99073,\n",
       "            0.99073,     0.99072,     0.99072,     0.99072,     0.99071,     0.99071,     0.99071,     0.99083,     0.99103,     0.99129,     0.99168,     0.99167,     0.99171,     0.99187,     0.99204,     0.99215,     0.99215,     0.99215,     0.99214,     0.99213,     0.99213,     0.99213,     0.99212,\n",
       "            0.99212,     0.99212,     0.99212,     0.99211,      0.9921,      0.9921,      0.9921,      0.9921,     0.99209,     0.99209,     0.99208,     0.99208,     0.99208,     0.99208,     0.99257,     0.99256,     0.99256,     0.99256,     0.99256,      0.9928,     0.99305,     0.99304,     0.99304,\n",
       "            0.99304,     0.99304,     0.99303,     0.99303,     0.99303,     0.99303,     0.99302,     0.99316,     0.99351,     0.99351,     0.99351,     0.99351,      0.9935,      0.9935,      0.9935,      0.9935,      0.9935,      0.9935,     0.99399,     0.99448,     0.99448,     0.99447,     0.99447,\n",
       "            0.99446,     0.99446,     0.99446,     0.99445,     0.99494,     0.99494,     0.99494,     0.99493,     0.99515,     0.99541,     0.99543,     0.99542,     0.99542,     0.99542,     0.99591,     0.99591,     0.99591,     0.99591,      0.9959,      0.9959,     0.99589,     0.99589,     0.99589,\n",
       "            0.99588,     0.99587,     0.99586,     0.99585,     0.99585,     0.99583,     0.99583,     0.99582,     0.99633,     0.99633,     0.99632,     0.99631,     0.99631,      0.9963,     0.99629,     0.99636,     0.99681,     0.99681,      0.9968,     0.99679,     0.99679,     0.99678,     0.99678,\n",
       "            0.99677,     0.99676,     0.99675,     0.99673,     0.99673,     0.99672,     0.99671,     0.99671,      0.9967,     0.99669,     0.99701,     0.99723,     0.99777,     0.99777,     0.99776,     0.99775,     0.99775,     0.99775,     0.99775,     0.99774,     0.99774,     0.99773,     0.99772,\n",
       "            0.99772,     0.99771,     0.99771,     0.99769,     0.99768,     0.99768,     0.99767,     0.99767,     0.99766,     0.99765,     0.99765,     0.99764,     0.99763,     0.99763,     0.99761,     0.99761,      0.9976,     0.99758,     0.99757,     0.99756,     0.99754,     0.99753,     0.99752,\n",
       "            0.99751,     0.99749,     0.99748,     0.99746,     0.99745,     0.99744,     0.99807,     0.99871,      0.9987,     0.99869,     0.99868,     0.99868,     0.99867,     0.99866,     0.99865,     0.99932,     0.99931,     0.99931,      0.9993,      0.9993,     0.99929,     0.99928,     0.99927,\n",
       "            0.99926,     0.99925,     0.99924,     0.99923,     0.99922,     0.99921,      0.9992,     0.99919,     0.99917,     0.99916,     0.99913,     0.99913,      0.9991,     0.99909,     0.99906,     0.99904,     0.99903,           1,           1,           1,           1,           1,           1,\n",
       "                  1,           1,           1,           1,           1,           1,           1,           1,           1,           1,           1,           1,           1,           1,           1,           1,           1,           1,           1,           1,           1,           1,           1,\n",
       "                  1,           1,           1,           1,           1,           1,           1,           1,           1,           1,           1,           1,           1,           1,           1,           1,           1,           1,           1,           1,           1,           1,           1,\n",
       "                  1,           1,           1,           1,           1,           1,           1,           1,           1,           1,           1,           1,           1,           1,           1,           1,           1,           1,           1,           1,           1,           1,           1,\n",
       "                  1,           1,           1,           1,           1,           1,           1,           1,           1,           1,           1,           1,           1,           1,           1,           1,           1,           1,           1,           1,           1,           1,           1,\n",
       "                  1,           1,           1,           1,           1,           1,           1,           1,           1,           1,           1,           1,           1,           1,           1,           1,           1,           1,           1,           1,           1,           1,           1,\n",
       "                  1,           1,           1,           1,           1,           1,           1,           1,           1,           1,           1,           1,           1,           1,           1,           1,           1,           1,           1,           1,           1,           1,           1,\n",
       "                  1,           1,           1,           1,           1,           1,           1,           1,           1,           1,           1,           1,           1,           1,           1,           1,           1,           1,           1,           1,           1,           1,           1,\n",
       "                  1,           1,           1,           1,           1,           1,           1,           1,           1,           1,           1,           1,           1,           1,           1,           1,           1,           1,           1,           1,           1,           1,           1,\n",
       "                  1,           1,           1,           1,           1,           1,           1,           1,           1,           1,           1]]), 'Confidence', 'Precision'], [array([          0,    0.001001,    0.002002,    0.003003,    0.004004,    0.005005,    0.006006,    0.007007,    0.008008,    0.009009,     0.01001,    0.011011,    0.012012,    0.013013,    0.014014,    0.015015,    0.016016,    0.017017,    0.018018,    0.019019,     0.02002,    0.021021,    0.022022,    0.023023,\n",
       "          0.024024,    0.025025,    0.026026,    0.027027,    0.028028,    0.029029,     0.03003,    0.031031,    0.032032,    0.033033,    0.034034,    0.035035,    0.036036,    0.037037,    0.038038,    0.039039,     0.04004,    0.041041,    0.042042,    0.043043,    0.044044,    0.045045,    0.046046,    0.047047,\n",
       "          0.048048,    0.049049,     0.05005,    0.051051,    0.052052,    0.053053,    0.054054,    0.055055,    0.056056,    0.057057,    0.058058,    0.059059,     0.06006,    0.061061,    0.062062,    0.063063,    0.064064,    0.065065,    0.066066,    0.067067,    0.068068,    0.069069,     0.07007,    0.071071,\n",
       "          0.072072,    0.073073,    0.074074,    0.075075,    0.076076,    0.077077,    0.078078,    0.079079,     0.08008,    0.081081,    0.082082,    0.083083,    0.084084,    0.085085,    0.086086,    0.087087,    0.088088,    0.089089,     0.09009,    0.091091,    0.092092,    0.093093,    0.094094,    0.095095,\n",
       "          0.096096,    0.097097,    0.098098,    0.099099,      0.1001,      0.1011,      0.1021,      0.1031,      0.1041,     0.10511,     0.10611,     0.10711,     0.10811,     0.10911,     0.11011,     0.11111,     0.11211,     0.11311,     0.11411,     0.11512,     0.11612,     0.11712,     0.11812,     0.11912,\n",
       "           0.12012,     0.12112,     0.12212,     0.12312,     0.12412,     0.12513,     0.12613,     0.12713,     0.12813,     0.12913,     0.13013,     0.13113,     0.13213,     0.13313,     0.13413,     0.13514,     0.13614,     0.13714,     0.13814,     0.13914,     0.14014,     0.14114,     0.14214,     0.14314,\n",
       "           0.14414,     0.14515,     0.14615,     0.14715,     0.14815,     0.14915,     0.15015,     0.15115,     0.15215,     0.15315,     0.15415,     0.15516,     0.15616,     0.15716,     0.15816,     0.15916,     0.16016,     0.16116,     0.16216,     0.16316,     0.16416,     0.16517,     0.16617,     0.16717,\n",
       "           0.16817,     0.16917,     0.17017,     0.17117,     0.17217,     0.17317,     0.17417,     0.17518,     0.17618,     0.17718,     0.17818,     0.17918,     0.18018,     0.18118,     0.18218,     0.18318,     0.18418,     0.18519,     0.18619,     0.18719,     0.18819,     0.18919,     0.19019,     0.19119,\n",
       "           0.19219,     0.19319,     0.19419,      0.1952,      0.1962,      0.1972,      0.1982,      0.1992,      0.2002,      0.2012,      0.2022,      0.2032,      0.2042,     0.20521,     0.20621,     0.20721,     0.20821,     0.20921,     0.21021,     0.21121,     0.21221,     0.21321,     0.21421,     0.21522,\n",
       "           0.21622,     0.21722,     0.21822,     0.21922,     0.22022,     0.22122,     0.22222,     0.22322,     0.22422,     0.22523,     0.22623,     0.22723,     0.22823,     0.22923,     0.23023,     0.23123,     0.23223,     0.23323,     0.23423,     0.23524,     0.23624,     0.23724,     0.23824,     0.23924,\n",
       "           0.24024,     0.24124,     0.24224,     0.24324,     0.24424,     0.24525,     0.24625,     0.24725,     0.24825,     0.24925,     0.25025,     0.25125,     0.25225,     0.25325,     0.25425,     0.25526,     0.25626,     0.25726,     0.25826,     0.25926,     0.26026,     0.26126,     0.26226,     0.26326,\n",
       "           0.26426,     0.26527,     0.26627,     0.26727,     0.26827,     0.26927,     0.27027,     0.27127,     0.27227,     0.27327,     0.27427,     0.27528,     0.27628,     0.27728,     0.27828,     0.27928,     0.28028,     0.28128,     0.28228,     0.28328,     0.28428,     0.28529,     0.28629,     0.28729,\n",
       "           0.28829,     0.28929,     0.29029,     0.29129,     0.29229,     0.29329,     0.29429,      0.2953,      0.2963,      0.2973,      0.2983,      0.2993,      0.3003,      0.3013,      0.3023,      0.3033,      0.3043,     0.30531,     0.30631,     0.30731,     0.30831,     0.30931,     0.31031,     0.31131,\n",
       "           0.31231,     0.31331,     0.31431,     0.31532,     0.31632,     0.31732,     0.31832,     0.31932,     0.32032,     0.32132,     0.32232,     0.32332,     0.32432,     0.32533,     0.32633,     0.32733,     0.32833,     0.32933,     0.33033,     0.33133,     0.33233,     0.33333,     0.33433,     0.33534,\n",
       "           0.33634,     0.33734,     0.33834,     0.33934,     0.34034,     0.34134,     0.34234,     0.34334,     0.34434,     0.34535,     0.34635,     0.34735,     0.34835,     0.34935,     0.35035,     0.35135,     0.35235,     0.35335,     0.35435,     0.35536,     0.35636,     0.35736,     0.35836,     0.35936,\n",
       "           0.36036,     0.36136,     0.36236,     0.36336,     0.36436,     0.36537,     0.36637,     0.36737,     0.36837,     0.36937,     0.37037,     0.37137,     0.37237,     0.37337,     0.37437,     0.37538,     0.37638,     0.37738,     0.37838,     0.37938,     0.38038,     0.38138,     0.38238,     0.38338,\n",
       "           0.38438,     0.38539,     0.38639,     0.38739,     0.38839,     0.38939,     0.39039,     0.39139,     0.39239,     0.39339,     0.39439,      0.3954,      0.3964,      0.3974,      0.3984,      0.3994,      0.4004,      0.4014,      0.4024,      0.4034,      0.4044,     0.40541,     0.40641,     0.40741,\n",
       "           0.40841,     0.40941,     0.41041,     0.41141,     0.41241,     0.41341,     0.41441,     0.41542,     0.41642,     0.41742,     0.41842,     0.41942,     0.42042,     0.42142,     0.42242,     0.42342,     0.42442,     0.42543,     0.42643,     0.42743,     0.42843,     0.42943,     0.43043,     0.43143,\n",
       "           0.43243,     0.43343,     0.43443,     0.43544,     0.43644,     0.43744,     0.43844,     0.43944,     0.44044,     0.44144,     0.44244,     0.44344,     0.44444,     0.44545,     0.44645,     0.44745,     0.44845,     0.44945,     0.45045,     0.45145,     0.45245,     0.45345,     0.45445,     0.45546,\n",
       "           0.45646,     0.45746,     0.45846,     0.45946,     0.46046,     0.46146,     0.46246,     0.46346,     0.46446,     0.46547,     0.46647,     0.46747,     0.46847,     0.46947,     0.47047,     0.47147,     0.47247,     0.47347,     0.47447,     0.47548,     0.47648,     0.47748,     0.47848,     0.47948,\n",
       "           0.48048,     0.48148,     0.48248,     0.48348,     0.48448,     0.48549,     0.48649,     0.48749,     0.48849,     0.48949,     0.49049,     0.49149,     0.49249,     0.49349,     0.49449,      0.4955,      0.4965,      0.4975,      0.4985,      0.4995,      0.5005,      0.5015,      0.5025,      0.5035,\n",
       "            0.5045,     0.50551,     0.50651,     0.50751,     0.50851,     0.50951,     0.51051,     0.51151,     0.51251,     0.51351,     0.51451,     0.51552,     0.51652,     0.51752,     0.51852,     0.51952,     0.52052,     0.52152,     0.52252,     0.52352,     0.52452,     0.52553,     0.52653,     0.52753,\n",
       "           0.52853,     0.52953,     0.53053,     0.53153,     0.53253,     0.53353,     0.53453,     0.53554,     0.53654,     0.53754,     0.53854,     0.53954,     0.54054,     0.54154,     0.54254,     0.54354,     0.54454,     0.54555,     0.54655,     0.54755,     0.54855,     0.54955,     0.55055,     0.55155,\n",
       "           0.55255,     0.55355,     0.55455,     0.55556,     0.55656,     0.55756,     0.55856,     0.55956,     0.56056,     0.56156,     0.56256,     0.56356,     0.56456,     0.56557,     0.56657,     0.56757,     0.56857,     0.56957,     0.57057,     0.57157,     0.57257,     0.57357,     0.57457,     0.57558,\n",
       "           0.57658,     0.57758,     0.57858,     0.57958,     0.58058,     0.58158,     0.58258,     0.58358,     0.58458,     0.58559,     0.58659,     0.58759,     0.58859,     0.58959,     0.59059,     0.59159,     0.59259,     0.59359,     0.59459,      0.5956,      0.5966,      0.5976,      0.5986,      0.5996,\n",
       "            0.6006,      0.6016,      0.6026,      0.6036,      0.6046,     0.60561,     0.60661,     0.60761,     0.60861,     0.60961,     0.61061,     0.61161,     0.61261,     0.61361,     0.61461,     0.61562,     0.61662,     0.61762,     0.61862,     0.61962,     0.62062,     0.62162,     0.62262,     0.62362,\n",
       "           0.62462,     0.62563,     0.62663,     0.62763,     0.62863,     0.62963,     0.63063,     0.63163,     0.63263,     0.63363,     0.63463,     0.63564,     0.63664,     0.63764,     0.63864,     0.63964,     0.64064,     0.64164,     0.64264,     0.64364,     0.64464,     0.64565,     0.64665,     0.64765,\n",
       "           0.64865,     0.64965,     0.65065,     0.65165,     0.65265,     0.65365,     0.65465,     0.65566,     0.65666,     0.65766,     0.65866,     0.65966,     0.66066,     0.66166,     0.66266,     0.66366,     0.66466,     0.66567,     0.66667,     0.66767,     0.66867,     0.66967,     0.67067,     0.67167,\n",
       "           0.67267,     0.67367,     0.67467,     0.67568,     0.67668,     0.67768,     0.67868,     0.67968,     0.68068,     0.68168,     0.68268,     0.68368,     0.68468,     0.68569,     0.68669,     0.68769,     0.68869,     0.68969,     0.69069,     0.69169,     0.69269,     0.69369,     0.69469,      0.6957,\n",
       "            0.6967,      0.6977,      0.6987,      0.6997,      0.7007,      0.7017,      0.7027,      0.7037,      0.7047,     0.70571,     0.70671,     0.70771,     0.70871,     0.70971,     0.71071,     0.71171,     0.71271,     0.71371,     0.71471,     0.71572,     0.71672,     0.71772,     0.71872,     0.71972,\n",
       "           0.72072,     0.72172,     0.72272,     0.72372,     0.72472,     0.72573,     0.72673,     0.72773,     0.72873,     0.72973,     0.73073,     0.73173,     0.73273,     0.73373,     0.73473,     0.73574,     0.73674,     0.73774,     0.73874,     0.73974,     0.74074,     0.74174,     0.74274,     0.74374,\n",
       "           0.74474,     0.74575,     0.74675,     0.74775,     0.74875,     0.74975,     0.75075,     0.75175,     0.75275,     0.75375,     0.75475,     0.75576,     0.75676,     0.75776,     0.75876,     0.75976,     0.76076,     0.76176,     0.76276,     0.76376,     0.76476,     0.76577,     0.76677,     0.76777,\n",
       "           0.76877,     0.76977,     0.77077,     0.77177,     0.77277,     0.77377,     0.77477,     0.77578,     0.77678,     0.77778,     0.77878,     0.77978,     0.78078,     0.78178,     0.78278,     0.78378,     0.78478,     0.78579,     0.78679,     0.78779,     0.78879,     0.78979,     0.79079,     0.79179,\n",
       "           0.79279,     0.79379,     0.79479,      0.7958,      0.7968,      0.7978,      0.7988,      0.7998,      0.8008,      0.8018,      0.8028,      0.8038,      0.8048,     0.80581,     0.80681,     0.80781,     0.80881,     0.80981,     0.81081,     0.81181,     0.81281,     0.81381,     0.81481,     0.81582,\n",
       "           0.81682,     0.81782,     0.81882,     0.81982,     0.82082,     0.82182,     0.82282,     0.82382,     0.82482,     0.82583,     0.82683,     0.82783,     0.82883,     0.82983,     0.83083,     0.83183,     0.83283,     0.83383,     0.83483,     0.83584,     0.83684,     0.83784,     0.83884,     0.83984,\n",
       "           0.84084,     0.84184,     0.84284,     0.84384,     0.84484,     0.84585,     0.84685,     0.84785,     0.84885,     0.84985,     0.85085,     0.85185,     0.85285,     0.85385,     0.85485,     0.85586,     0.85686,     0.85786,     0.85886,     0.85986,     0.86086,     0.86186,     0.86286,     0.86386,\n",
       "           0.86486,     0.86587,     0.86687,     0.86787,     0.86887,     0.86987,     0.87087,     0.87187,     0.87287,     0.87387,     0.87487,     0.87588,     0.87688,     0.87788,     0.87888,     0.87988,     0.88088,     0.88188,     0.88288,     0.88388,     0.88488,     0.88589,     0.88689,     0.88789,\n",
       "           0.88889,     0.88989,     0.89089,     0.89189,     0.89289,     0.89389,     0.89489,      0.8959,      0.8969,      0.8979,      0.8989,      0.8999,      0.9009,      0.9019,      0.9029,      0.9039,      0.9049,     0.90591,     0.90691,     0.90791,     0.90891,     0.90991,     0.91091,     0.91191,\n",
       "           0.91291,     0.91391,     0.91491,     0.91592,     0.91692,     0.91792,     0.91892,     0.91992,     0.92092,     0.92192,     0.92292,     0.92392,     0.92492,     0.92593,     0.92693,     0.92793,     0.92893,     0.92993,     0.93093,     0.93193,     0.93293,     0.93393,     0.93493,     0.93594,\n",
       "           0.93694,     0.93794,     0.93894,     0.93994,     0.94094,     0.94194,     0.94294,     0.94394,     0.94494,     0.94595,     0.94695,     0.94795,     0.94895,     0.94995,     0.95095,     0.95195,     0.95295,     0.95395,     0.95495,     0.95596,     0.95696,     0.95796,     0.95896,     0.95996,\n",
       "           0.96096,     0.96196,     0.96296,     0.96396,     0.96496,     0.96597,     0.96697,     0.96797,     0.96897,     0.96997,     0.97097,     0.97197,     0.97297,     0.97397,     0.97497,     0.97598,     0.97698,     0.97798,     0.97898,     0.97998,     0.98098,     0.98198,     0.98298,     0.98398,\n",
       "           0.98498,     0.98599,     0.98699,     0.98799,     0.98899,     0.98999,     0.99099,     0.99199,     0.99299,     0.99399,     0.99499,       0.996,       0.997,       0.998,       0.999,           1]), array([[    0.97221,     0.97221,      0.9713,     0.97084,     0.96948,     0.96902,     0.96902,     0.96856,     0.96856,     0.96811,     0.96765,      0.9672,      0.9672,     0.96674,     0.96629,     0.96629,     0.96629,     0.96629,     0.96629,     0.96629,     0.96629,     0.96623,     0.96538,\n",
       "            0.96538,     0.96538,     0.96538,     0.96492,     0.96492,     0.96492,     0.96492,     0.96492,     0.96485,     0.96446,     0.96446,     0.96446,     0.96446,     0.96446,     0.96446,     0.96446,     0.96401,     0.96401,     0.96401,     0.96401,     0.96355,     0.96355,     0.96355,\n",
       "             0.9631,     0.96264,     0.96264,     0.96173,     0.96173,     0.96173,      0.9615,     0.96082,     0.96082,     0.96036,     0.96036,     0.96036,     0.96036,     0.96036,     0.96036,     0.96009,     0.95991,     0.95991,     0.95991,     0.95991,     0.95991,     0.95991,     0.95945,\n",
       "            0.95945,       0.959,       0.959,       0.959,       0.959,       0.959,       0.959,       0.959,       0.959,       0.959,       0.959,       0.959,     0.95874,     0.95854,     0.95854,     0.95854,     0.95854,     0.95854,     0.95854,     0.95854,     0.95854,     0.95854,     0.95854,\n",
       "            0.95852,     0.95817,     0.95809,     0.95809,     0.95809,     0.95809,     0.95809,     0.95809,     0.95809,     0.95783,     0.95763,     0.95763,     0.95763,     0.95763,     0.95763,     0.95739,     0.95718,     0.95672,     0.95672,     0.95672,     0.95672,     0.95672,     0.95655,\n",
       "            0.95626,     0.95626,     0.95626,     0.95626,     0.95626,     0.95626,     0.95622,     0.95607,     0.95591,     0.95581,     0.95581,     0.95581,     0.95581,     0.95574,     0.95535,     0.95535,      0.9549,      0.9549,      0.9549,      0.9549,      0.9549,      0.9549,      0.9549,\n",
       "             0.9549,      0.9549,      0.9549,     0.95449,     0.95444,     0.95444,     0.95444,     0.95444,     0.95444,     0.95444,     0.95444,     0.95444,     0.95444,     0.95444,     0.95444,     0.95444,     0.95444,     0.95444,      0.9542,     0.95399,     0.95399,     0.95399,     0.95399,\n",
       "            0.95369,     0.95353,     0.95353,     0.95308,     0.95302,     0.95262,     0.95262,     0.95262,     0.95262,     0.95262,     0.95216,     0.95171,     0.95171,     0.95171,     0.95171,     0.95171,     0.95171,     0.95171,     0.95171,     0.95171,     0.95171,     0.95171,     0.95166,\n",
       "            0.95141,     0.95125,     0.95125,     0.95125,     0.95125,     0.95125,     0.95125,     0.95125,     0.95125,     0.95125,     0.95125,     0.95125,     0.95125,     0.95125,     0.95125,     0.95125,     0.95125,     0.95125,     0.95125,     0.95125,     0.95125,     0.95125,     0.95125,\n",
       "            0.95125,     0.95125,     0.95125,     0.95125,     0.95125,     0.95119,     0.95085,      0.9508,      0.9508,      0.9508,      0.9508,      0.9508,      0.9508,     0.95051,     0.95034,     0.95034,     0.95034,     0.95034,     0.95034,     0.95034,     0.95034,     0.95034,     0.95034,\n",
       "            0.95034,     0.95034,     0.94993,     0.94943,     0.94943,     0.94943,     0.94943,     0.94943,     0.94943,     0.94943,     0.94943,     0.94943,     0.94943,     0.94943,     0.94943,     0.94943,     0.94943,     0.94943,     0.94943,      0.9494,     0.94936,     0.94931,     0.94926,\n",
       "            0.94921,     0.94917,     0.94912,     0.94907,     0.94902,     0.94898,     0.94897,     0.94897,     0.94897,     0.94897,     0.94897,     0.94897,     0.94852,     0.94852,     0.94852,     0.94852,     0.94852,     0.94852,     0.94852,     0.94852,     0.94852,     0.94852,     0.94852,\n",
       "            0.94852,     0.94852,     0.94852,     0.94852,     0.94852,     0.94852,     0.94852,     0.94852,     0.94841,     0.94822,     0.94806,     0.94806,     0.94806,     0.94806,     0.94806,     0.94775,     0.94715,     0.94715,     0.94715,     0.94715,     0.94715,     0.94715,     0.94715,\n",
       "            0.94715,     0.94715,     0.94715,     0.94715,     0.94715,     0.94715,     0.94715,     0.94715,     0.94715,     0.94667,     0.94654,      0.9464,     0.94627,     0.94603,     0.94578,     0.94571,     0.94565,     0.94558,     0.94551,     0.94545,     0.94538,     0.94533,     0.94533,\n",
       "            0.94533,     0.94533,     0.94533,     0.94533,     0.94533,     0.94533,     0.94533,     0.94533,     0.94533,     0.94533,     0.94533,     0.94533,     0.94533,     0.94533,     0.94533,     0.94533,     0.94533,     0.94533,     0.94533,     0.94533,     0.94533,     0.94533,     0.94532,\n",
       "            0.94525,     0.94517,      0.9451,     0.94502,     0.94495,     0.94487,     0.94487,     0.94487,     0.94487,     0.94487,     0.94487,     0.94487,     0.94487,     0.94487,     0.94487,     0.94487,     0.94475,     0.94442,     0.94442,     0.94442,     0.94442,     0.94442,     0.94442,\n",
       "            0.94442,     0.94442,     0.94442,     0.94442,     0.94442,     0.94442,     0.94442,     0.94442,     0.94442,       0.944,      0.9439,     0.94383,     0.94376,     0.94369,     0.94362,     0.94355,     0.94351,     0.94351,     0.94351,     0.94351,     0.94351,     0.94351,     0.94351,\n",
       "            0.94351,     0.94351,     0.94351,     0.94351,     0.94351,     0.94351,     0.94351,     0.94346,     0.94337,     0.94327,     0.94317,     0.94307,     0.94293,     0.94277,     0.94261,      0.9426,      0.9426,      0.9426,     0.94249,     0.94212,     0.94205,     0.94199,     0.94192,\n",
       "            0.94185,     0.94178,     0.94171,     0.94153,      0.9413,     0.94028,     0.94023,     0.94017,     0.94012,     0.94007,     0.94001,     0.93996,     0.93991,     0.93986,     0.93986,     0.93986,     0.93986,     0.93983,     0.93971,      0.9396,     0.93948,     0.93941,     0.93941,\n",
       "            0.93941,     0.93941,     0.93941,     0.93941,     0.93941,     0.93941,     0.93941,     0.93941,     0.93941,     0.93934,     0.93926,     0.93918,     0.93911,     0.93903,      0.9385,      0.9385,      0.9385,      0.9385,     0.93841,     0.93818,     0.93804,     0.93804,     0.93804,\n",
       "            0.93804,     0.93804,     0.93804,     0.93804,     0.93801,     0.93795,     0.93789,     0.93783,     0.93777,     0.93771,     0.93766,      0.9376,     0.93759,     0.93759,     0.93759,     0.93759,     0.93759,     0.93759,     0.93759,     0.93759,     0.93747,     0.93735,     0.93724,\n",
       "            0.93713,     0.93712,       0.937,     0.93688,     0.93677,     0.93658,     0.93622,     0.93622,     0.93622,     0.93622,     0.93618,     0.93606,     0.93595,     0.93583,     0.93576,     0.93576,     0.93576,     0.93576,     0.93576,     0.93576,     0.93576,     0.93576,     0.93569,\n",
       "            0.93557,     0.93546,     0.93534,     0.93528,     0.93523,     0.93519,     0.93515,     0.93511,     0.93506,     0.93502,     0.93498,     0.93494,     0.93489,     0.93485,     0.93481,     0.93476,     0.93471,     0.93467,     0.93462,     0.93457,     0.93453,     0.93448,     0.93443,\n",
       "            0.93394,     0.93394,     0.93394,     0.93392,     0.93384,     0.93376,     0.93368,     0.93361,     0.93353,     0.93349,     0.93337,     0.93314,     0.93233,     0.93207,     0.93197,     0.93188,     0.93179,     0.93169,     0.93151,     0.93127,     0.93042,     0.93025,     0.93019,\n",
       "            0.93013,     0.93006,        0.93,     0.92994,     0.92988,     0.92982,     0.92977,     0.92971,     0.92966,     0.92961,     0.92956,     0.92951,     0.92946,      0.9294,     0.92938,     0.92938,     0.92938,     0.92938,     0.92904,     0.92893,     0.92893,     0.92893,     0.92893,\n",
       "            0.92873,     0.92849,     0.92805,     0.92802,     0.92802,     0.92756,      0.9271,     0.92678,     0.92662,     0.92657,     0.92652,     0.92647,     0.92641,     0.92636,     0.92631,     0.92626,     0.92621,     0.92582,     0.92567,     0.92559,      0.9255,     0.92542,     0.92533,\n",
       "            0.92507,     0.92415,     0.92384,     0.92368,     0.92353,     0.92333,     0.92309,     0.92301,     0.92301,     0.92301,     0.92291,     0.92199,     0.92118,     0.92118,     0.92118,     0.92113,     0.92098,     0.92082,     0.91989,     0.91915,     0.91891,     0.91834,     0.91822,\n",
       "             0.9181,     0.91797,      0.9175,     0.91652,     0.91588,     0.91541,      0.9151,     0.91487,     0.91401,     0.91376,     0.91357,     0.91337,     0.91313,     0.91282,     0.91246,     0.91227,     0.91208,     0.91163,     0.91117,     0.91071,      0.9107,     0.91057,     0.91043,\n",
       "             0.9103,     0.90996,     0.90919,     0.90895,     0.90867,     0.90832,     0.90785,     0.90706,     0.90646,     0.90613,     0.90606,     0.90599,     0.90593,     0.90586,     0.90579,     0.90573,     0.90558,     0.90534,     0.90384,     0.90338,     0.90245,     0.90153,     0.90063,\n",
       "            0.90032,     0.90006,     0.89983,     0.89772,     0.89652,     0.89628,     0.89536,     0.89482,     0.89385,     0.89385,     0.89356,     0.89181,     0.89135,     0.88975,     0.88837,     0.88814,     0.88699,     0.88668,     0.88627,     0.88535,     0.88407,     0.88282,     0.88224,\n",
       "            0.88029,     0.87982,     0.87753,     0.87456,     0.87409,     0.87117,      0.8702,     0.86836,     0.86585,     0.86538,     0.86317,     0.86194,     0.86008,     0.85772,     0.85749,     0.85513,     0.85371,      0.8534,      0.8507,     0.84978,     0.84806,     0.84588,     0.84527,\n",
       "            0.84244,     0.84152,     0.83809,     0.83424,     0.83374,     0.83054,     0.82848,     0.82755,     0.82504,     0.82226,     0.82141,     0.81895,     0.81542,     0.81488,     0.81244,     0.80952,     0.80928,     0.80675,     0.80644,     0.80476,     0.80288,     0.80234,     0.79868,\n",
       "            0.79577,     0.79546,     0.79227,     0.78702,     0.78359,     0.78328,     0.78074,      0.7805,     0.77671,      0.7739,     0.77327,     0.76893,       0.767,      0.7664,     0.76206,      0.7601,     0.75862,     0.75155,     0.74818,     0.74538,     0.73994,     0.73716,     0.73327,\n",
       "            0.73076,     0.72481,     0.72185,     0.71569,     0.71244,      0.7102,     0.70647,     0.70539,     0.70014,     0.69638,     0.69009,     0.68814,     0.68483,     0.67821,     0.67349,     0.66498,     0.66023,     0.65698,     0.65244,     0.64967,     0.64146,     0.63187,     0.62618,\n",
       "            0.61452,     0.60747,     0.59989,     0.59424,     0.58253,     0.57599,       0.567,     0.56048,     0.54554,     0.54087,      0.5259,     0.52034,     0.50764,     0.49891,     0.48618,     0.47406,      0.4711,     0.46037,     0.45101,     0.44144,     0.43729,     0.42543,     0.42159,\n",
       "            0.41262,     0.40266,     0.39891,     0.38704,     0.38326,      0.3788,     0.37253,     0.36918,     0.35838,     0.35564,     0.35271,     0.34905,     0.34057,     0.33533,     0.33212,     0.32436,     0.32205,     0.31748,     0.31244,     0.31133,     0.31012,     0.30782,     0.30515,\n",
       "            0.30367,     0.30092,     0.30033,     0.29859,     0.29712,      0.2962,     0.29488,     0.29394,     0.29275,     0.29228,     0.29188,     0.29157,     0.29019,     0.28925,     0.28837,     0.28813,     0.28691,     0.28636,     0.28595,     0.28465,     0.28418,      0.2836,     0.28221,\n",
       "            0.28164,     0.28084,     0.28032,     0.27873,      0.2785,     0.27798,     0.27568,     0.27474,     0.27381,     0.27288,     0.27242,     0.27196,     0.27165,     0.27033,     0.26638,     0.26499,     0.26269,     0.25811,     0.25365,     0.25169,     0.24984,     0.24299,     0.23932,\n",
       "            0.23565,     0.22834,     0.22194,     0.21463,     0.20823,     0.20046,     0.19497,     0.19039,     0.18581,      0.1785,       0.168,     0.16114,     0.14882,     0.14105,     0.12701,     0.12233,     0.11719,     0.10588,     0.10039,    0.092166,    0.088955,    0.078909,    0.072964,\n",
       "           0.063829,    0.059251,    0.056494,    0.048271,    0.045081,     0.04367,    0.040958,    0.039979,    0.037679,    0.036289,    0.035217,    0.033966,    0.032576,     0.02953,    0.029219,    0.027952,    0.026344,    0.026111,    0.025606,    0.024409,    0.023099,    0.022787,    0.021641,\n",
       "           0.018668,    0.018179,    0.015771,    0.014989,    0.014541,     0.01423,     0.01397,    0.013736,    0.013448,    0.012986,    0.012404,    0.011573,    0.011139,     0.01087,    0.010684,    0.010497,   0.0091814,   0.0086795,   0.0083604,   0.0075178,     0.00717,   0.0069365,   0.0067292,\n",
       "          0.0065424,   0.0058662,   0.0054331,   0.0051996,   0.0048303,   0.0039983,    0.003588,   0.0033545,   0.0030529,   0.0021304,   0.0017826,   0.0016658,   0.0015491,   0.0014324,   0.0012986,   0.0011429,  0.00098724,  0.00084295,  0.00070953,   0.0005761,           0,           0,           0,\n",
       "                  0,           0,           0,           0,           0,           0,           0,           0,           0,           0,           0,           0,           0,           0,           0,           0,           0,           0,           0,           0,           0,           0,           0,\n",
       "                  0,           0,           0,           0,           0,           0,           0,           0,           0,           0,           0]]), 'Confidence', 'Recall']]\n",
       "fitness: 0.7279661496656904\n",
       "keys: ['metrics/precision(B)', 'metrics/recall(B)', 'metrics/mAP50(B)', 'metrics/mAP50-95(B)']\n",
       "maps: array([    0.70093])\n",
       "names: {0: 'License_Plate'}\n",
       "nt_per_class: array([2195])\n",
       "nt_per_image: array([2045])\n",
       "results_dict: {'metrics/precision(B)': 0.9768911763470024, 'metrics/recall(B)': 0.9436912488291885, 'metrics/mAP50(B)': 0.9712578679370613, 'metrics/mAP50-95(B)': 0.700933736524427, 'fitness': 0.7279661496656904}\n",
       "speed: {'preprocess': 0.1323618251936054, 'inference': 1.3506480488265638, 'loss': 0.00027356347942486536, 'postprocess': 1.099512777829048}\n",
       "stats: {'tp': [], 'conf': [], 'pred_cls': [], 'target_cls': [], 'target_img': []}\n",
       "task: 'detect'"
      ]
     },
     "execution_count": 8,
     "metadata": {},
     "output_type": "execute_result"
    }
   ],
   "source": [
    "from ultralytics import YOLO\n",
    "\n",
    "model = YOLO(\"yolov8n.pt\")\n",
    "\n",
    "model.train(\n",
    "    data=\"/kaggle/working/License-Plate-Recognition-2/data.yaml\",   \n",
    "    epochs=20,          \n",
    "    imgsz=640,            \n",
    "    batch=16,             \n",
    "    name=\"plate-detector-arabic\" \n",
    ")\n"
   ]
  },
  {
   "cell_type": "code",
   "execution_count": null,
   "metadata": {
    "trusted": true
   },
   "outputs": [],
   "source": []
  }
 ],
 "metadata": {
  "kaggle": {
   "accelerator": "nvidiaTeslaT4",
   "dataSources": [],
   "dockerImageVersionId": 31041,
   "isGpuEnabled": true,
   "isInternetEnabled": true,
   "language": "python",
   "sourceType": "notebook"
  },
  "kernelspec": {
   "display_name": "Python 3",
   "language": "python",
   "name": "python3"
  },
  "language_info": {
   "codemirror_mode": {
    "name": "ipython",
    "version": 3
   },
   "file_extension": ".py",
   "mimetype": "text/x-python",
   "name": "python",
   "nbconvert_exporter": "python",
   "pygments_lexer": "ipython3",
   "version": "3.11.11"
  }
 },
 "nbformat": 4,
 "nbformat_minor": 4
}
